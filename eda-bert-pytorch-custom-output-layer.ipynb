{
 "cells": [
  {
   "cell_type": "code",
   "execution_count": 1,
   "id": "legitimate-execution",
   "metadata": {
    "_cell_guid": "b1076dfc-b9ad-4769-8c92-a6c4dae69d19",
    "_uuid": "8f2839f25d086af736a60e9eeb907d3b93b6e0e5",
    "execution": {
     "iopub.execute_input": "2021-04-27T15:39:52.434716Z",
     "iopub.status.busy": "2021-04-27T15:39:52.432601Z",
     "iopub.status.idle": "2021-04-27T15:39:52.450502Z",
     "shell.execute_reply": "2021-04-27T15:39:52.449410Z"
    },
    "papermill": {
     "duration": 0.054493,
     "end_time": "2021-04-27T15:39:52.450759",
     "exception": false,
     "start_time": "2021-04-27T15:39:52.396266",
     "status": "completed"
    },
    "tags": []
   },
   "outputs": [
    {
     "name": "stdout",
     "output_type": "stream",
     "text": [
      "/kaggle/input/nlp-getting-started/sample_submission.csv\n",
      "/kaggle/input/nlp-getting-started/train.csv\n",
      "/kaggle/input/nlp-getting-started/test.csv\n"
     ]
    }
   ],
   "source": [
    "# This Python 3 environment comes with many helpful analytics libraries installed\n",
    "# It is defined by the kaggle/python Docker image: https://github.com/kaggle/docker-python\n",
    "# For example, here's several helpful packages to load\n",
    "\n",
    "import numpy as np # linear algebra\n",
    "import pandas as pd # data processing, CSV file I/O (e.g. pd.read_csv)\n",
    "\n",
    "# Input data files are available in the read-only \"../input/\" directory\n",
    "# For example, running this (by clicking run or pressing Shift+Enter) will list all files under the input directory\n",
    "\n",
    "import os\n",
    "for dirname, _, filenames in os.walk('/kaggle/input'):\n",
    "    for filename in filenames:\n",
    "        print(os.path.join(dirname, filename))\n",
    "\n",
    "# You can write up to 20GB to the current directory (/kaggle/working/) that gets preserved as output when you create a version using \"Save & Run All\" \n",
    "# You can also write temporary files to /kaggle/temp/, but they won't be saved outside of the current session"
   ]
  },
  {
   "cell_type": "code",
   "execution_count": 2,
   "id": "monthly-supply",
   "metadata": {
    "execution": {
     "iopub.execute_input": "2021-04-27T15:39:52.519210Z",
     "iopub.status.busy": "2021-04-27T15:39:52.518427Z",
     "iopub.status.idle": "2021-04-27T15:40:02.894298Z",
     "shell.execute_reply": "2021-04-27T15:40:02.892903Z"
    },
    "papermill": {
     "duration": 10.412662,
     "end_time": "2021-04-27T15:40:02.894456",
     "exception": false,
     "start_time": "2021-04-27T15:39:52.481794",
     "status": "completed"
    },
    "tags": []
   },
   "outputs": [],
   "source": [
    "import pandas as pd\n",
    "import matplotlib.pyplot as plt\n",
    "import seaborn as sns\n",
    "import numpy as np\n",
    "import os\n",
    "\n",
    "\n",
    "# pytorch: helps us make model\n",
    "import torch\n",
    "from torch.utils.data import DataLoader, RandomSampler, SequentialSampler\n",
    "from torch.utils.data import TensorDataset\n",
    "import torch.nn.functional as F\n",
    "import torch.nn as nn\n",
    "\n",
    "# sklearn: help to genrate predicitve report\n",
    "from sklearn.metrics import classification_report, f1_score\n",
    "from sklearn.model_selection import train_test_split\n",
    "\n",
    "# huggingface: Stores pre-trained models\n",
    "from transformers import BertTokenizer #, BertForSequenceClassification, set_seed\n",
    "from transformers import BertModel, AdamW, BertConfig\n",
    "from transformers import pipeline, AdamW, get_linear_schedule_with_warmup\n",
    "import json \n",
    "\n"
   ]
  },
  {
   "cell_type": "code",
   "execution_count": 3,
   "id": "automated-oriental",
   "metadata": {
    "execution": {
     "iopub.execute_input": "2021-04-27T15:40:02.962821Z",
     "iopub.status.busy": "2021-04-27T15:40:02.962115Z",
     "iopub.status.idle": "2021-04-27T15:40:03.056305Z",
     "shell.execute_reply": "2021-04-27T15:40:03.056886Z"
    },
    "papermill": {
     "duration": 0.132645,
     "end_time": "2021-04-27T15:40:03.057090",
     "exception": false,
     "start_time": "2021-04-27T15:40:02.924445",
     "status": "completed"
    },
    "tags": []
   },
   "outputs": [
    {
     "data": {
      "text/html": [
       "<div>\n",
       "<style scoped>\n",
       "    .dataframe tbody tr th:only-of-type {\n",
       "        vertical-align: middle;\n",
       "    }\n",
       "\n",
       "    .dataframe tbody tr th {\n",
       "        vertical-align: top;\n",
       "    }\n",
       "\n",
       "    .dataframe thead th {\n",
       "        text-align: right;\n",
       "    }\n",
       "</style>\n",
       "<table border=\"1\" class=\"dataframe\">\n",
       "  <thead>\n",
       "    <tr style=\"text-align: right;\">\n",
       "      <th></th>\n",
       "      <th>id</th>\n",
       "      <th>keyword</th>\n",
       "      <th>location</th>\n",
       "      <th>text</th>\n",
       "      <th>target</th>\n",
       "    </tr>\n",
       "  </thead>\n",
       "  <tbody>\n",
       "    <tr>\n",
       "      <th>0</th>\n",
       "      <td>1</td>\n",
       "      <td>NaN</td>\n",
       "      <td>NaN</td>\n",
       "      <td>Our Deeds are the Reason of this #earthquake M...</td>\n",
       "      <td>1</td>\n",
       "    </tr>\n",
       "    <tr>\n",
       "      <th>1</th>\n",
       "      <td>4</td>\n",
       "      <td>NaN</td>\n",
       "      <td>NaN</td>\n",
       "      <td>Forest fire near La Ronge Sask. Canada</td>\n",
       "      <td>1</td>\n",
       "    </tr>\n",
       "    <tr>\n",
       "      <th>2</th>\n",
       "      <td>5</td>\n",
       "      <td>NaN</td>\n",
       "      <td>NaN</td>\n",
       "      <td>All residents asked to 'shelter in place' are ...</td>\n",
       "      <td>1</td>\n",
       "    </tr>\n",
       "  </tbody>\n",
       "</table>\n",
       "</div>"
      ],
      "text/plain": [
       "   id keyword location                                               text  \\\n",
       "0   1     NaN      NaN  Our Deeds are the Reason of this #earthquake M...   \n",
       "1   4     NaN      NaN             Forest fire near La Ronge Sask. Canada   \n",
       "2   5     NaN      NaN  All residents asked to 'shelter in place' are ...   \n",
       "\n",
       "   target  \n",
       "0       1  \n",
       "1       1  \n",
       "2       1  "
      ]
     },
     "execution_count": 3,
     "metadata": {},
     "output_type": "execute_result"
    }
   ],
   "source": [
    "tweet= pd.read_csv('../input/nlp-getting-started/train.csv')\n",
    "test=pd.read_csv('../input/nlp-getting-started/test.csv')\n",
    "tweet.head(3)"
   ]
  },
  {
   "cell_type": "code",
   "execution_count": 4,
   "id": "severe-conjunction",
   "metadata": {
    "execution": {
     "iopub.execute_input": "2021-04-27T15:40:03.129139Z",
     "iopub.status.busy": "2021-04-27T15:40:03.128029Z",
     "iopub.status.idle": "2021-04-27T15:40:03.135777Z",
     "shell.execute_reply": "2021-04-27T15:40:03.135154Z"
    },
    "papermill": {
     "duration": 0.047999,
     "end_time": "2021-04-27T15:40:03.135926",
     "exception": false,
     "start_time": "2021-04-27T15:40:03.087927",
     "status": "completed"
    },
    "tags": []
   },
   "outputs": [
    {
     "data": {
      "text/plain": [
       "0    4342\n",
       "1    3271\n",
       "Name: target, dtype: int64"
      ]
     },
     "execution_count": 4,
     "metadata": {},
     "output_type": "execute_result"
    }
   ],
   "source": [
    "tweet.target.value_counts()"
   ]
  },
  {
   "cell_type": "code",
   "execution_count": 5,
   "id": "associate-storm",
   "metadata": {
    "execution": {
     "iopub.execute_input": "2021-04-27T15:40:03.204935Z",
     "iopub.status.busy": "2021-04-27T15:40:03.203723Z",
     "iopub.status.idle": "2021-04-27T15:40:03.414065Z",
     "shell.execute_reply": "2021-04-27T15:40:03.413490Z"
    },
    "papermill": {
     "duration": 0.247473,
     "end_time": "2021-04-27T15:40:03.414219",
     "exception": false,
     "start_time": "2021-04-27T15:40:03.166746",
     "status": "completed"
    },
    "tags": []
   },
   "outputs": [
    {
     "data": {
      "text/plain": [
       "<AxesSubplot:xlabel='target', ylabel='count'>"
      ]
     },
     "execution_count": 5,
     "metadata": {},
     "output_type": "execute_result"
    },
    {
     "data": {
      "image/png": "[encoded data removed]",
      "text/plain": [
       "<Figure size 432x288 with 1 Axes>"
      ]
     },
     "metadata": {
      "needs_background": "light"
     },
     "output_type": "display_data"
    }
   ],
   "source": [
    "# plt.style.use('ggplot')\n",
    "sns.countplot(x=\"target\", data=tweet ,hue=\"target\")\n"
   ]
  },
  {
   "cell_type": "code",
   "execution_count": 6,
   "id": "boxed-chemistry",
   "metadata": {
    "execution": {
     "iopub.execute_input": "2021-04-27T15:40:03.504448Z",
     "iopub.status.busy": "2021-04-27T15:40:03.503237Z",
     "iopub.status.idle": "2021-04-27T15:40:04.004195Z",
     "shell.execute_reply": "2021-04-27T15:40:04.004789Z"
    },
    "papermill": {
     "duration": 0.558533,
     "end_time": "2021-04-27T15:40:04.005027",
     "exception": false,
     "start_time": "2021-04-27T15:40:03.446494",
     "status": "completed"
    },
    "tags": []
   },
   "outputs": [
    {
     "data": {
      "text/plain": [
       "Text(0.5, 1.0, 'Not disaster tweets')"
      ]
     },
     "execution_count": 6,
     "metadata": {},
     "output_type": "execute_result"
    },
    {
     "data": {
      "image/png": "[encoded data removed]",
      "text/plain": [
       "<Figure size 720x360 with 2 Axes>"
      ]
     },
     "metadata": {},
     "output_type": "display_data"
    }
   ],
   "source": [
    "plt.style.use('ggplot')\n",
    "f,axes=plt.subplots(1,2,figsize=(10,5))\n",
    "f.suptitle('Characters in tweets')\n",
    "\n",
    "tweet_len=tweet[tweet['target']==1]['text'].str.len()\n",
    "ax1=sns.histplot(tweet_len,ax=axes[0],color='red')\n",
    "# ax1.set(xlabel='common xlabel', ylabel='common ylabel')\n",
    "ax1.set_title('disaster tweets')\n",
    "\n",
    "tweet_len=tweet[tweet['target']==0]['text'].str.len()\n",
    "ax2=sns.histplot(tweet_len,ax=axes[1])\n",
    "# ax2.set(xlabel='common xlabel', ylabel='common ylabel')\n",
    "ax2.set_title('Not disaster tweets')\n"
   ]
  },
  {
   "cell_type": "code",
   "execution_count": 7,
   "id": "annoying-courtesy",
   "metadata": {
    "execution": {
     "iopub.execute_input": "2021-04-27T15:40:04.079767Z",
     "iopub.status.busy": "2021-04-27T15:40:04.078648Z",
     "iopub.status.idle": "2021-04-27T15:40:04.334141Z",
     "shell.execute_reply": "2021-04-27T15:40:04.334707Z"
    },
    "papermill": {
     "duration": 0.296428,
     "end_time": "2021-04-27T15:40:04.334886",
     "exception": false,
     "start_time": "2021-04-27T15:40:04.038458",
     "status": "completed"
    },
    "tags": []
   },
   "outputs": [
    {
     "data": {
      "text/plain": [
       "<AxesSubplot:ylabel='Count'>"
      ]
     },
     "execution_count": 7,
     "metadata": {},
     "output_type": "execute_result"
    },
    {
     "data": {
      "image/png": "[encoded data removed]",
      "text/plain": [
       "<Figure size 432x288 with 1 Axes>"
      ]
     },
     "metadata": {},
     "output_type": "display_data"
    }
   ],
   "source": [
    "tweet_len=tweet[tweet['target']==1]['text'].str.len()\n",
    "sns.histplot(tweet_len.values,color='red')"
   ]
  },
  {
   "cell_type": "code",
   "execution_count": 8,
   "id": "another-federation",
   "metadata": {
    "execution": {
     "iopub.execute_input": "2021-04-27T15:40:04.428510Z",
     "iopub.status.busy": "2021-04-27T15:40:04.427294Z",
     "iopub.status.idle": "2021-04-27T15:40:05.265917Z",
     "shell.execute_reply": "2021-04-27T15:40:05.266815Z"
    },
    "papermill": {
     "duration": 0.89687,
     "end_time": "2021-04-27T15:40:05.267083",
     "exception": false,
     "start_time": "2021-04-27T15:40:04.370213",
     "status": "completed"
    },
    "tags": []
   },
   "outputs": [
    {
     "data": {
      "text/plain": [
       "Text(0.5, 1.0, 'Not disaster tweets')"
      ]
     },
     "execution_count": 8,
     "metadata": {},
     "output_type": "execute_result"
    },
    {
     "data": {
      "image/png": "[encoded data removed]",
      "text/plain": [
       "<Figure size 1008x360 with 2 Axes>"
      ]
     },
     "metadata": {},
     "output_type": "display_data"
    }
   ],
   "source": [
    "plt.style.use('ggplot')\n",
    "f,axes=plt.subplots(1,2,figsize=(14,5))\n",
    "f.suptitle('Words in a tweet')\n",
    "tweet_len=tweet[tweet.target==1]['text'].str.split(' ').map(lambda x: len(x))\n",
    "ax1=sns.histplot(tweet_len,ax=axes[0],color='red')\n",
    "# ax1.set(xlabel='common xlabel', ylabel='common ylabel')\n",
    "ax1.set_title('disaster tweets')\n",
    "\n",
    "tweet_len=tweet[tweet.target==0]['text'].str.split(' ').map(lambda x: len(x))\n",
    "ax2=sns.histplot(tweet_len,ax=axes[1])\n",
    "# ax2.set(xlabel='common xlabel', ylabel='common ylabel')\n",
    "ax2.set_title('Not disaster tweets')\n"
   ]
  },
  {
   "cell_type": "code",
   "execution_count": 9,
   "id": "excessive-bookmark",
   "metadata": {
    "execution": {
     "iopub.execute_input": "2021-04-27T15:40:05.432877Z",
     "iopub.status.busy": "2021-04-27T15:40:05.431721Z",
     "iopub.status.idle": "2021-04-27T15:40:05.437254Z",
     "shell.execute_reply": "2021-04-27T15:40:05.438725Z"
    },
    "papermill": {
     "duration": 0.105021,
     "end_time": "2021-04-27T15:40:05.439029",
     "exception": false,
     "start_time": "2021-04-27T15:40:05.334008",
     "status": "completed"
    },
    "tags": []
   },
   "outputs": [],
   "source": [
    "text=''\n",
    "for i in tweet['text']:\n",
    "    text+=i\n",
    "#     print(i)\n",
    "#     break"
   ]
  },
  {
   "cell_type": "code",
   "execution_count": 10,
   "id": "assisted-deployment",
   "metadata": {
    "execution": {
     "iopub.execute_input": "2021-04-27T15:40:05.715606Z",
     "iopub.status.busy": "2021-04-27T15:40:05.714248Z",
     "iopub.status.idle": "2021-04-27T15:40:05.720808Z",
     "shell.execute_reply": "2021-04-27T15:40:05.716556Z"
    },
    "papermill": {
     "duration": 0.220458,
     "end_time": "2021-04-27T15:40:05.721305",
     "exception": false,
     "start_time": "2021-04-27T15:40:05.500847",
     "status": "completed"
    },
    "tags": []
   },
   "outputs": [
    {
     "name": "stdout",
     "output_type": "stream",
     "text": [
      "defaultdict(<class 'int'>, {'#': 3403, '.': 11696, \"'\": 3157, ',': 2, '=': 53, '>': 1, '-': 1753, '?': 3126, '!': 1173, ';': 587, ')': 373, ':': 6910, '@': 2759, '/': 14585, '_': 863, '&': 457, '(': 349, '[': 132, ']': 131, '|': 152, '*': 179, '$': 44, '+': 80, '%': 46, '~': 37, '}': 4, '^': 6, '\\\\': 5, '`': 3, '{': 3})\n"
     ]
    }
   ],
   "source": [
    "from collections import defaultdict,Counter\n",
    "count_punctuation=defaultdict(int)\n",
    "import string\n",
    "\n",
    "for x,y in Counter(text).items():\n",
    "\n",
    "    if x in string.punctuation:\n",
    "#         print(x)\n",
    "#         print(type(x))\n",
    "        count_punctuation[x]=y\n",
    "#         print(x,y)\n",
    "#     print(x,y)\n",
    "#     break\n",
    "print(count_punctuation)\n"
   ]
  },
  {
   "cell_type": "code",
   "execution_count": 11,
   "id": "proof-feelings",
   "metadata": {
    "execution": {
     "iopub.execute_input": "2021-04-27T15:40:05.823462Z",
     "iopub.status.busy": "2021-04-27T15:40:05.822560Z",
     "iopub.status.idle": "2021-04-27T15:40:06.534871Z",
     "shell.execute_reply": "2021-04-27T15:40:06.534296Z"
    },
    "papermill": {
     "duration": 0.766144,
     "end_time": "2021-04-27T15:40:06.535048",
     "exception": false,
     "start_time": "2021-04-27T15:40:05.768904",
     "status": "completed"
    },
    "tags": []
   },
   "outputs": [
    {
     "data": {
      "text/plain": [
       "Text(0.5, 1.0, 'Count of Punctuations')"
      ]
     },
     "execution_count": 11,
     "metadata": {},
     "output_type": "execute_result"
    },
    {
     "data": {
      "image/png": "[encoded data removed]",
      "text/plain": [
       "<Figure size 720x360 with 1 Axes>"
      ]
     },
     "metadata": {},
     "output_type": "display_data"
    }
   ],
   "source": [
    "sns.set(rc={'figure.figsize':(10,5)})\n",
    "ax=sns.barplot(x='punctuation',y='count',\n",
    "            data=pd.DataFrame(count_punctuation.items()\n",
    "                              ,columns=['punctuation','count']).sort_values\n",
    "            (by=['count'], ascending=False))\n",
    "ax.set_title('Count of Punctuations')\n"
   ]
  },
  {
   "cell_type": "code",
   "execution_count": 12,
   "id": "generic-sentence",
   "metadata": {
    "execution": {
     "iopub.execute_input": "2021-04-27T15:40:06.652377Z",
     "iopub.status.busy": "2021-04-27T15:40:06.650076Z",
     "iopub.status.idle": "2021-04-27T15:40:06.653223Z",
     "shell.execute_reply": "2021-04-27T15:40:06.653797Z"
    },
    "papermill": {
     "duration": 0.080612,
     "end_time": "2021-04-27T15:40:06.654006",
     "exception": false,
     "start_time": "2021-04-27T15:40:06.573394",
     "status": "completed"
    },
    "tags": []
   },
   "outputs": [],
   "source": [
    "# Common words\n",
    "word_count=Counter(text.split(' '))\n",
    "most_common=word_count.most_common(40)\n"
   ]
  },
  {
   "cell_type": "code",
   "execution_count": 13,
   "id": "mexican-quilt",
   "metadata": {
    "execution": {
     "iopub.execute_input": "2021-04-27T15:40:06.758615Z",
     "iopub.status.busy": "2021-04-27T15:40:06.744083Z",
     "iopub.status.idle": "2021-04-27T15:40:07.562064Z",
     "shell.execute_reply": "2021-04-27T15:40:07.562636Z"
    },
    "papermill": {
     "duration": 0.869801,
     "end_time": "2021-04-27T15:40:07.562818",
     "exception": false,
     "start_time": "2021-04-27T15:40:06.693017",
     "status": "completed"
    },
    "tags": []
   },
   "outputs": [
    {
     "data": {
      "text/plain": [
       "<AxesSubplot:xlabel='count', ylabel='word'>"
      ]
     },
     "execution_count": 13,
     "metadata": {},
     "output_type": "execute_result"
    },
    {
     "data": {
      "image/png": "[encoded data removed]",
      "text/plain": [
       "<Figure size 864x576 with 1 Axes>"
      ]
     },
     "metadata": {},
     "output_type": "display_data"
    }
   ],
   "source": [
    "sns.set(rc={'figure.figsize':(12,8)})\n",
    "sns.barplot(x='count',y='word',data=pd.DataFrame(most_common,columns=['word','count']))"
   ]
  },
  {
   "cell_type": "code",
   "execution_count": 14,
   "id": "behavioral-creation",
   "metadata": {
    "execution": {
     "iopub.execute_input": "2021-04-27T15:40:07.655717Z",
     "iopub.status.busy": "2021-04-27T15:40:07.654935Z",
     "iopub.status.idle": "2021-04-27T15:40:10.905065Z",
     "shell.execute_reply": "2021-04-27T15:40:10.904112Z"
    },
    "papermill": {
     "duration": 3.301505,
     "end_time": "2021-04-27T15:40:10.905250",
     "exception": false,
     "start_time": "2021-04-27T15:40:07.603745",
     "status": "completed"
    },
    "tags": []
   },
   "outputs": [],
   "source": [
    "import re\n",
    "import string\n",
    "import spacy\n",
    "sp = spacy.load('en_core_web_sm')\n",
    "\n",
    "def cleaning_text(text,emojis=True,html_tag=True,http=True,lemmitize=True,punctuation=True):\n",
    "    \n",
    "    #remove emojis\n",
    "    if emojis is True:\n",
    "        regrex_pattern = re.compile(pattern = \"[\"                                                   \n",
    "                                    u\"\\U0001F600-\\U0001F64F\"  # emoticons\n",
    "                                    u\"\\U0001F300-\\U0001F5FF\"  # symbols & pictographs\n",
    "                                    u\"\\U0001F680-\\U0001F6FF\"  # transport & map symbols\n",
    "                                    u\"\\U0001F1E0-\\U0001F1FF\"  # flags (iOS)\n",
    "                                                       \"]+\", flags = re.UNICODE)\n",
    "\n",
    "        text=regrex_pattern.sub(r'',text)\n",
    "    \n",
    "    \n",
    "    \n",
    "    #lower \n",
    "    text=text.lower()\n",
    "    \n",
    "    #remove html tag\n",
    "    if html_tag is True:\n",
    "        text=re.sub('<.*?>',\"\",text)\n",
    "        \n",
    "    #remove http link\n",
    "    if http is True:\n",
    "        text = re.sub(\"https?:\\/\\/t.co\\/[A-Za-z0-9]*\", '', text)\n",
    "    \n",
    "#     lemmitizing\n",
    "    if lemmitize is True:\n",
    "        lemmatized = [word.lemma_ for word in sp(text)]\n",
    "        text = ' '.join(lemmatized)\n",
    "    \n",
    "    #remove punctuation\n",
    "    if punctuation is True:\n",
    "        text = text.translate(str.maketrans('', '', string.punctuation))\n",
    "        \n",
    "    # removing extra space\n",
    "    text = re.sub(\"\\s+\", ' ', text)\n",
    "    \n",
    "    \n",
    "#     print(text)\n",
    "    \n",
    "    return text"
   ]
  },
  {
   "cell_type": "code",
   "execution_count": 15,
   "id": "constant-mounting",
   "metadata": {
    "execution": {
     "iopub.execute_input": "2021-04-27T15:40:11.018206Z",
     "iopub.status.busy": "2021-04-27T15:40:11.008011Z",
     "iopub.status.idle": "2021-04-27T15:40:11.197972Z",
     "shell.execute_reply": "2021-04-27T15:40:11.197300Z"
    },
    "papermill": {
     "duration": 0.251444,
     "end_time": "2021-04-27T15:40:11.198133",
     "exception": false,
     "start_time": "2021-04-27T15:40:10.946689",
     "status": "completed"
    },
    "tags": []
   },
   "outputs": [],
   "source": [
    "tweet['cleaned']=tweet['text'].apply(lambda x: cleaning_text(x,lemmitize=False))"
   ]
  },
  {
   "cell_type": "code",
   "execution_count": 16,
   "id": "activated-preparation",
   "metadata": {
    "execution": {
     "iopub.execute_input": "2021-04-27T15:40:11.295827Z",
     "iopub.status.busy": "2021-04-27T15:40:11.294749Z",
     "iopub.status.idle": "2021-04-27T15:40:11.298860Z",
     "shell.execute_reply": "2021-04-27T15:40:11.299383Z"
    },
    "papermill": {
     "duration": 0.059531,
     "end_time": "2021-04-27T15:40:11.299587",
     "exception": false,
     "start_time": "2021-04-27T15:40:11.240056",
     "status": "completed"
    },
    "tags": []
   },
   "outputs": [
    {
     "data": {
      "text/html": [
       "<div>\n",
       "<style scoped>\n",
       "    .dataframe tbody tr th:only-of-type {\n",
       "        vertical-align: middle;\n",
       "    }\n",
       "\n",
       "    .dataframe tbody tr th {\n",
       "        vertical-align: top;\n",
       "    }\n",
       "\n",
       "    .dataframe thead th {\n",
       "        text-align: right;\n",
       "    }\n",
       "</style>\n",
       "<table border=\"1\" class=\"dataframe\">\n",
       "  <thead>\n",
       "    <tr style=\"text-align: right;\">\n",
       "      <th></th>\n",
       "      <th>id</th>\n",
       "      <th>keyword</th>\n",
       "      <th>location</th>\n",
       "      <th>text</th>\n",
       "      <th>target</th>\n",
       "      <th>cleaned</th>\n",
       "    </tr>\n",
       "  </thead>\n",
       "  <tbody>\n",
       "    <tr>\n",
       "      <th>0</th>\n",
       "      <td>1</td>\n",
       "      <td>NaN</td>\n",
       "      <td>NaN</td>\n",
       "      <td>Our Deeds are the Reason of this #earthquake M...</td>\n",
       "      <td>1</td>\n",
       "      <td>our deeds are the reason of this earthquake ma...</td>\n",
       "    </tr>\n",
       "    <tr>\n",
       "      <th>1</th>\n",
       "      <td>4</td>\n",
       "      <td>NaN</td>\n",
       "      <td>NaN</td>\n",
       "      <td>Forest fire near La Ronge Sask. Canada</td>\n",
       "      <td>1</td>\n",
       "      <td>forest fire near la ronge sask canada</td>\n",
       "    </tr>\n",
       "    <tr>\n",
       "      <th>2</th>\n",
       "      <td>5</td>\n",
       "      <td>NaN</td>\n",
       "      <td>NaN</td>\n",
       "      <td>All residents asked to 'shelter in place' are ...</td>\n",
       "      <td>1</td>\n",
       "      <td>all residents asked to shelter in place are be...</td>\n",
       "    </tr>\n",
       "    <tr>\n",
       "      <th>3</th>\n",
       "      <td>6</td>\n",
       "      <td>NaN</td>\n",
       "      <td>NaN</td>\n",
       "      <td>13,000 people receive #wildfires evacuation or...</td>\n",
       "      <td>1</td>\n",
       "      <td>13000 people receive wildfires evacuation orde...</td>\n",
       "    </tr>\n",
       "    <tr>\n",
       "      <th>4</th>\n",
       "      <td>7</td>\n",
       "      <td>NaN</td>\n",
       "      <td>NaN</td>\n",
       "      <td>Just got sent this photo from Ruby #Alaska as ...</td>\n",
       "      <td>1</td>\n",
       "      <td>just got sent this photo from ruby alaska as s...</td>\n",
       "    </tr>\n",
       "  </tbody>\n",
       "</table>\n",
       "</div>"
      ],
      "text/plain": [
       "   id keyword location                                               text  \\\n",
       "0   1     NaN      NaN  Our Deeds are the Reason of this #earthquake M...   \n",
       "1   4     NaN      NaN             Forest fire near La Ronge Sask. Canada   \n",
       "2   5     NaN      NaN  All residents asked to 'shelter in place' are ...   \n",
       "3   6     NaN      NaN  13,000 people receive #wildfires evacuation or...   \n",
       "4   7     NaN      NaN  Just got sent this photo from Ruby #Alaska as ...   \n",
       "\n",
       "   target                                            cleaned  \n",
       "0       1  our deeds are the reason of this earthquake ma...  \n",
       "1       1              forest fire near la ronge sask canada  \n",
       "2       1  all residents asked to shelter in place are be...  \n",
       "3       1  13000 people receive wildfires evacuation orde...  \n",
       "4       1  just got sent this photo from ruby alaska as s...  "
      ]
     },
     "execution_count": 16,
     "metadata": {},
     "output_type": "execute_result"
    }
   ],
   "source": [
    "tweet.head()"
   ]
  },
  {
   "cell_type": "code",
   "execution_count": 17,
   "id": "ancient-climate",
   "metadata": {
    "execution": {
     "iopub.execute_input": "2021-04-27T15:40:11.387816Z",
     "iopub.status.busy": "2021-04-27T15:40:11.386695Z",
     "iopub.status.idle": "2021-04-27T15:40:11.396708Z",
     "shell.execute_reply": "2021-04-27T15:40:11.396151Z"
    },
    "papermill": {
     "duration": 0.056827,
     "end_time": "2021-04-27T15:40:11.396842",
     "exception": false,
     "start_time": "2021-04-27T15:40:11.340015",
     "status": "completed"
    },
    "tags": []
   },
   "outputs": [],
   "source": [
    "from sklearn.model_selection import train_test_split\n",
    "# split dataset into train and val for validating model performance\n",
    "x_train, x_val, y_train, y_val = train_test_split(\n",
    "    tweet['cleaned'].values, tweet['target'].values, test_size=0.05, stratify=tweet['target'].values)\n"
   ]
  },
  {
   "cell_type": "code",
   "execution_count": 18,
   "id": "ordered-basin",
   "metadata": {
    "execution": {
     "iopub.execute_input": "2021-04-27T15:40:11.486704Z",
     "iopub.status.busy": "2021-04-27T15:40:11.485605Z",
     "iopub.status.idle": "2021-04-27T15:40:11.489834Z",
     "shell.execute_reply": "2021-04-27T15:40:11.490410Z"
    },
    "papermill": {
     "duration": 0.052019,
     "end_time": "2021-04-27T15:40:11.490620",
     "exception": false,
     "start_time": "2021-04-27T15:40:11.438601",
     "status": "completed"
    },
    "tags": []
   },
   "outputs": [
    {
     "data": {
      "text/plain": [
       "((7232,), (381,))"
      ]
     },
     "execution_count": 18,
     "metadata": {},
     "output_type": "execute_result"
    }
   ],
   "source": [
    "x_train.shape,x_val.shape"
   ]
  },
  {
   "cell_type": "code",
   "execution_count": 19,
   "id": "contemporary-medicine",
   "metadata": {
    "execution": {
     "iopub.execute_input": "2021-04-27T15:40:11.584287Z",
     "iopub.status.busy": "2021-04-27T15:40:11.583149Z",
     "iopub.status.idle": "2021-04-27T15:40:21.368680Z",
     "shell.execute_reply": "2021-04-27T15:40:21.368027Z"
    },
    "papermill": {
     "duration": 9.835173,
     "end_time": "2021-04-27T15:40:21.368845",
     "exception": false,
     "start_time": "2021-04-27T15:40:11.533672",
     "status": "completed"
    },
    "tags": []
   },
   "outputs": [
    {
     "data": {
      "application/vnd.jupyter.widget-view+json": {
       "model_id": "fdc0bcdc63c447a1b630dc79c977e890",
       "version_major": 2,
       "version_minor": 0
      },
      "text/plain": [
       "Downloading:   0%|          | 0.00/232k [00:00<?, ?B/s]"
      ]
     },
     "metadata": {},
     "output_type": "display_data"
    },
    {
     "data": {
      "application/vnd.jupyter.widget-view+json": {
       "model_id": "554f8f352cd2439396daa2b388685feb",
       "version_major": 2,
       "version_minor": 0
      },
      "text/plain": [
       "Downloading:   0%|          | 0.00/28.0 [00:00<?, ?B/s]"
      ]
     },
     "metadata": {},
     "output_type": "display_data"
    },
    {
     "data": {
      "application/vnd.jupyter.widget-view+json": {
       "model_id": "97bc30d9db1b4882b929b95cf2f9dd2f",
       "version_major": 2,
       "version_minor": 0
      },
      "text/plain": [
       "Downloading:   0%|          | 0.00/466k [00:00<?, ?B/s]"
      ]
     },
     "metadata": {},
     "output_type": "display_data"
    }
   ],
   "source": [
    "# init tokenizer\n",
    "tokenizer = BertTokenizer.from_pretrained('bert-base-uncased', do_lower_case=True)\n",
    "\n",
    "# get embedings\n",
    "\n",
    "encoded_data_train = tokenizer.batch_encode_plus(\n",
    "    list(x_train), \n",
    "    add_special_tokens=True, \n",
    "    return_attention_mask=True, \n",
    "    pad_to_max_length=True, \n",
    "    padding='max_length',\n",
    "    max_length=50,   # max length is taken 50 as max len of tweets is around 30\n",
    "    return_tensors='pt',\n",
    "    truncation=True,\n",
    "    return_token_type_ids=False\n",
    ")\n",
    "\n",
    "encoded_data_val = tokenizer.batch_encode_plus(\n",
    "    list(x_val), \n",
    "    add_special_tokens=True, \n",
    "    return_attention_mask=True, \n",
    "    pad_to_max_length=True,\n",
    "    padding='max_length', \n",
    "    max_length=50, \n",
    "    return_tensors='pt',\n",
    "    truncation=True,\n",
    "    return_token_type_ids=False\n",
    ")"
   ]
  },
  {
   "cell_type": "code",
   "execution_count": 20,
   "id": "likely-triumph",
   "metadata": {
    "execution": {
     "iopub.execute_input": "2021-04-27T15:40:21.478209Z",
     "iopub.status.busy": "2021-04-27T15:40:21.477112Z",
     "iopub.status.idle": "2021-04-27T15:40:21.480713Z",
     "shell.execute_reply": "2021-04-27T15:40:21.480146Z"
    },
    "papermill": {
     "duration": 0.066861,
     "end_time": "2021-04-27T15:40:21.480861",
     "exception": false,
     "start_time": "2021-04-27T15:40:21.414000",
     "status": "completed"
    },
    "tags": []
   },
   "outputs": [],
   "source": [
    "input_ids_train = encoded_data_train['input_ids']\n",
    "attention_masks_train = encoded_data_train['attention_mask']\n",
    "labels_train = torch.tensor(list(y_train))#.float()\n",
    "\n",
    "input_ids_val = encoded_data_val['input_ids']\n",
    "attention_masks_val = encoded_data_val['attention_mask']\n",
    "labels_val = torch.tensor(list(y_val))#.float()\n",
    "\n",
    "\n",
    "# making dataset\n",
    "dataset_train = TensorDataset(input_ids_train, attention_masks_train, labels_train)\n",
    "dataset_val = TensorDataset(input_ids_val, attention_masks_val, labels_val)\n",
    "\n",
    "# making dataloader\n",
    "dataloader_train = DataLoader(dataset_train, sampler=RandomSampler(dataset_train), batch_size=8)\n",
    "dataloader_val = DataLoader(dataset_val, sampler=SequentialSampler(dataset_val), batch_size=8)"
   ]
  },
  {
   "cell_type": "code",
   "execution_count": 21,
   "id": "advance-speed",
   "metadata": {
    "execution": {
     "iopub.execute_input": "2021-04-27T15:40:21.579640Z",
     "iopub.status.busy": "2021-04-27T15:40:21.578570Z",
     "iopub.status.idle": "2021-04-27T15:40:21.582373Z",
     "shell.execute_reply": "2021-04-27T15:40:21.581803Z"
    },
    "papermill": {
     "duration": 0.056942,
     "end_time": "2021-04-27T15:40:21.582541",
     "exception": false,
     "start_time": "2021-04-27T15:40:21.525599",
     "status": "completed"
    },
    "tags": []
   },
   "outputs": [],
   "source": [
    "#building model\n",
    "class SentimentClassifier(nn.Module):\n",
    "    \n",
    "    def __init__(self, n_classes):\n",
    "        super(SentimentClassifier, self).__init__()\n",
    "        self.bert = BertModel.from_pretrained('bert-base-uncased')\n",
    "        self.drop = nn.Dropout(p=0.1)\n",
    "        self.out1 = nn.Linear(self.bert.config.hidden_size, 300)\n",
    "        self.out2 = nn.Linear(300, 50)\n",
    "        self.out3 = nn.Linear(50, n_classes)\n",
    "        \n",
    "    def forward(self, input_ids, attention_mask):\n",
    "        o = self.bert(\n",
    "          input_ids=input_ids,\n",
    "          attention_mask=attention_mask\n",
    "        )\n",
    "\n",
    "        output = torch.max(o.last_hidden_state, axis=1).values  #global_max_1d of tensorflow\n",
    "        output = self.out1(output)\n",
    "        output = torch.relu(output)\n",
    "        \n",
    "        output = self.drop(output)\n",
    "        \n",
    "        output = self.out2(output)\n",
    "        output = torch.relu(output)\n",
    "        \n",
    "        output = self.out3(output)\n",
    "        \n",
    "        return output\n"
   ]
  },
  {
   "cell_type": "code",
   "execution_count": 22,
   "id": "enhanced-backing",
   "metadata": {
    "execution": {
     "iopub.execute_input": "2021-04-27T15:40:22.162401Z",
     "iopub.status.busy": "2021-04-27T15:40:22.161359Z",
     "iopub.status.idle": "2021-04-27T15:40:51.300015Z",
     "shell.execute_reply": "2021-04-27T15:40:51.299026Z"
    },
    "papermill": {
     "duration": 29.673165,
     "end_time": "2021-04-27T15:40:51.300180",
     "exception": false,
     "start_time": "2021-04-27T15:40:21.627015",
     "status": "completed"
    },
    "tags": []
   },
   "outputs": [
    {
     "name": "stdout",
     "output_type": "stream",
     "text": [
      "cuda\n"
     ]
    },
    {
     "data": {
      "application/vnd.jupyter.widget-view+json": {
       "model_id": "c6a26cdc43bc4e91ae66c203f7d3371c",
       "version_major": 2,
       "version_minor": 0
      },
      "text/plain": [
       "Downloading:   0%|          | 0.00/570 [00:00<?, ?B/s]"
      ]
     },
     "metadata": {},
     "output_type": "display_data"
    },
    {
     "data": {
      "application/vnd.jupyter.widget-view+json": {
       "model_id": "4e100c4d692a4f5681aa476cc51fa2c7",
       "version_major": 2,
       "version_minor": 0
      },
      "text/plain": [
       "Downloading:   0%|          | 0.00/440M [00:00<?, ?B/s]"
      ]
     },
     "metadata": {},
     "output_type": "display_data"
    }
   ],
   "source": [
    "device = torch.device('cuda' if torch.cuda.is_available() else 'cpu')\n",
    "print(device)\n",
    "model = SentimentClassifier(n_classes=2)\n",
    "model = model.to(device)"
   ]
  },
  {
   "cell_type": "code",
   "execution_count": 23,
   "id": "logical-stevens",
   "metadata": {
    "execution": {
     "iopub.execute_input": "2021-04-27T15:40:51.403350Z",
     "iopub.status.busy": "2021-04-27T15:40:51.402214Z",
     "iopub.status.idle": "2021-04-27T15:40:51.405521Z",
     "shell.execute_reply": "2021-04-27T15:40:51.404914Z"
    },
    "papermill": {
     "duration": 0.060089,
     "end_time": "2021-04-27T15:40:51.405663",
     "exception": false,
     "start_time": "2021-04-27T15:40:51.345574",
     "status": "completed"
    },
    "tags": []
   },
   "outputs": [],
   "source": [
    "# Note: AdamW is a class from the huggingface library (as opposed to pytorch) \n",
    "# I believe the 'W' stands for 'Weight Decay fix\"\n",
    "optimizer = AdamW(model.parameters(),\n",
    "                  lr = 2e-5, # args.learning_rate - default is 5e-5, our notebook had 2e-5\n",
    "                  eps = 1e-8 # args.adam_epsilon  - default is 1e-8.\n",
    "                )\n",
    "from transformers import get_linear_schedule_with_warmup\n",
    "# Number of training epochs (authors recommend between 2 and 4)\n",
    "epochs = 3\n",
    "# Total number of training steps is number of batches * number of epochs.\n",
    "total_steps = len(dataloader_train) * epochs\n",
    "# Create the learning rate scheduler.\n",
    "scheduler = get_linear_schedule_with_warmup(optimizer, \n",
    "                                            num_warmup_steps = 0, # Default value in run_glue.py\n",
    "                                            num_training_steps = total_steps)\n",
    "loss_fn = nn.CrossEntropyLoss().to(device)"
   ]
  },
  {
   "cell_type": "code",
   "execution_count": 24,
   "id": "rental-watts",
   "metadata": {
    "execution": {
     "iopub.execute_input": "2021-04-27T15:40:51.502612Z",
     "iopub.status.busy": "2021-04-27T15:40:51.501531Z",
     "iopub.status.idle": "2021-04-27T15:40:51.504321Z",
     "shell.execute_reply": "2021-04-27T15:40:51.504869Z"
    },
    "papermill": {
     "duration": 0.05381,
     "end_time": "2021-04-27T15:40:51.505050",
     "exception": false,
     "start_time": "2021-04-27T15:40:51.451240",
     "status": "completed"
    },
    "tags": []
   },
   "outputs": [],
   "source": [
    "import numpy as np\n",
    "# Function to calculate the accuracy of our predictions vs labels\n",
    "def flat_accuracy(preds, labels):\n",
    "    pred_flat = np.argmax(preds, axis=1).flatten()\n",
    "    labels_flat = labels.flatten()\n",
    "    return np.sum(pred_flat == labels_flat) / len(labels_flat)"
   ]
  },
  {
   "cell_type": "code",
   "execution_count": 25,
   "id": "loving-insider",
   "metadata": {
    "execution": {
     "iopub.execute_input": "2021-04-27T15:40:51.600770Z",
     "iopub.status.busy": "2021-04-27T15:40:51.599662Z",
     "iopub.status.idle": "2021-04-27T15:40:51.603086Z",
     "shell.execute_reply": "2021-04-27T15:40:51.602533Z"
    },
    "papermill": {
     "duration": 0.053659,
     "end_time": "2021-04-27T15:40:51.603227",
     "exception": false,
     "start_time": "2021-04-27T15:40:51.549568",
     "status": "completed"
    },
    "tags": []
   },
   "outputs": [],
   "source": [
    "import time\n",
    "import datetime\n",
    "def format_time(elapsed):\n",
    "    '''\n",
    "    Takes a time in seconds and returns a string hh:mm:ss\n",
    "    '''\n",
    "    # Round to the nearest second.\n",
    "    elapsed_rounded = int(round((elapsed)))\n",
    "    \n",
    "    # Format as hh:mm:ss\n",
    "    return str(datetime.timedelta(seconds=elapsed_rounded))"
   ]
  },
  {
   "cell_type": "code",
   "execution_count": 26,
   "id": "configured-colony",
   "metadata": {
    "execution": {
     "iopub.execute_input": "2021-04-27T15:40:51.710695Z",
     "iopub.status.busy": "2021-04-27T15:40:51.709528Z",
     "iopub.status.idle": "2021-04-27T15:46:17.982022Z",
     "shell.execute_reply": "2021-04-27T15:46:17.982546Z"
    },
    "papermill": {
     "duration": 326.335223,
     "end_time": "2021-04-27T15:46:17.982720",
     "exception": false,
     "start_time": "2021-04-27T15:40:51.647497",
     "status": "completed"
    },
    "tags": []
   },
   "outputs": [
    {
     "name": "stdout",
     "output_type": "stream",
     "text": [
      "\n",
      "======== Epoch 1 / 3 ========\n",
      "Training...\n",
      "  Batch    40  of    904.    Elapsed: 0:00:06.\n",
      "  Batch    80  of    904.    Elapsed: 0:00:11.\n",
      "  Batch   120  of    904.    Elapsed: 0:00:16.\n",
      "  Batch   160  of    904.    Elapsed: 0:00:21.\n",
      "  Batch   200  of    904.    Elapsed: 0:00:26.\n",
      "  Batch   240  of    904.    Elapsed: 0:00:31.\n",
      "  Batch   280  of    904.    Elapsed: 0:00:35.\n",
      "  Batch   320  of    904.    Elapsed: 0:00:40.\n",
      "  Batch   360  of    904.    Elapsed: 0:00:45.\n",
      "  Batch   400  of    904.    Elapsed: 0:00:50.\n",
      "  Batch   440  of    904.    Elapsed: 0:00:55.\n",
      "  Batch   480  of    904.    Elapsed: 0:00:59.\n",
      "  Batch   520  of    904.    Elapsed: 0:01:04.\n",
      "  Batch   560  of    904.    Elapsed: 0:01:09.\n",
      "  Batch   600  of    904.    Elapsed: 0:01:13.\n",
      "  Batch   640  of    904.    Elapsed: 0:01:18.\n",
      "  Batch   680  of    904.    Elapsed: 0:01:23.\n",
      "  Batch   720  of    904.    Elapsed: 0:01:27.\n",
      "  Batch   760  of    904.    Elapsed: 0:01:32.\n",
      "  Batch   800  of    904.    Elapsed: 0:01:37.\n",
      "  Batch   840  of    904.    Elapsed: 0:01:41.\n",
      "  Batch   880  of    904.    Elapsed: 0:01:46.\n",
      "\n",
      "  Average training loss: 0.48\n",
      "  Training epcoh took: 0:01:49\n",
      "\n",
      "Running Validation...\n",
      "  Accuracy: 0.84\n",
      "  Validation took: 0:00:01\n",
      "\n",
      "======== Epoch 2 / 3 ========\n",
      "Training...\n",
      "  Batch    40  of    904.    Elapsed: 0:00:05.\n",
      "  Batch    80  of    904.    Elapsed: 0:00:10.\n",
      "  Batch   120  of    904.    Elapsed: 0:00:14.\n",
      "  Batch   160  of    904.    Elapsed: 0:00:19.\n",
      "  Batch   200  of    904.    Elapsed: 0:00:24.\n",
      "  Batch   240  of    904.    Elapsed: 0:00:29.\n",
      "  Batch   280  of    904.    Elapsed: 0:00:34.\n",
      "  Batch   320  of    904.    Elapsed: 0:00:39.\n",
      "  Batch   360  of    904.    Elapsed: 0:00:44.\n",
      "  Batch   400  of    904.    Elapsed: 0:00:49.\n",
      "  Batch   440  of    904.    Elapsed: 0:00:54.\n",
      "  Batch   480  of    904.    Elapsed: 0:00:58.\n",
      "  Batch   520  of    904.    Elapsed: 0:01:03.\n",
      "  Batch   560  of    904.    Elapsed: 0:01:08.\n",
      "  Batch   600  of    904.    Elapsed: 0:01:13.\n",
      "  Batch   640  of    904.    Elapsed: 0:01:18.\n",
      "  Batch   680  of    904.    Elapsed: 0:01:22.\n",
      "  Batch   720  of    904.    Elapsed: 0:01:27.\n",
      "  Batch   760  of    904.    Elapsed: 0:01:32.\n",
      "  Batch   800  of    904.    Elapsed: 0:01:37.\n",
      "  Batch   840  of    904.    Elapsed: 0:01:42.\n",
      "  Batch   880  of    904.    Elapsed: 0:01:47.\n",
      "\n",
      "  Average training loss: 0.37\n",
      "  Training epcoh took: 0:01:50\n",
      "\n",
      "Running Validation...\n",
      "  Accuracy: 0.87\n",
      "  Validation took: 0:00:01\n",
      "\n",
      "======== Epoch 3 / 3 ========\n",
      "Training...\n",
      "  Batch    40  of    904.    Elapsed: 0:00:04.\n",
      "  Batch    80  of    904.    Elapsed: 0:00:09.\n",
      "  Batch   120  of    904.    Elapsed: 0:00:14.\n",
      "  Batch   160  of    904.    Elapsed: 0:00:18.\n",
      "  Batch   200  of    904.    Elapsed: 0:00:23.\n",
      "  Batch   240  of    904.    Elapsed: 0:00:28.\n",
      "  Batch   280  of    904.    Elapsed: 0:00:32.\n",
      "  Batch   320  of    904.    Elapsed: 0:00:37.\n",
      "  Batch   360  of    904.    Elapsed: 0:00:42.\n",
      "  Batch   400  of    904.    Elapsed: 0:00:46.\n",
      "  Batch   440  of    904.    Elapsed: 0:00:50.\n",
      "  Batch   480  of    904.    Elapsed: 0:00:56.\n",
      "  Batch   520  of    904.    Elapsed: 0:01:00.\n",
      "  Batch   560  of    904.    Elapsed: 0:01:05.\n",
      "  Batch   600  of    904.    Elapsed: 0:01:09.\n",
      "  Batch   640  of    904.    Elapsed: 0:01:14.\n",
      "  Batch   680  of    904.    Elapsed: 0:01:19.\n",
      "  Batch   720  of    904.    Elapsed: 0:01:23.\n",
      "  Batch   760  of    904.    Elapsed: 0:01:28.\n",
      "  Batch   800  of    904.    Elapsed: 0:01:33.\n",
      "  Batch   840  of    904.    Elapsed: 0:01:37.\n",
      "  Batch   880  of    904.    Elapsed: 0:01:42.\n",
      "\n",
      "  Average training loss: 0.31\n",
      "  Training epcoh took: 0:01:44\n",
      "\n",
      "Running Validation...\n",
      "  Accuracy: 0.86\n",
      "  Validation took: 0:00:01\n",
      "\n",
      "Training complete!\n"
     ]
    }
   ],
   "source": [
    "import random\n",
    "# This training code is based on the `run_glue.py` script here:\n",
    "# https://github.com/huggingface/transformers/blob/5bfcd0485ece086ebcbed2d008813037968a9e58/examples/run_glue.py#L128\n",
    "# Set the seed value all over the place to make this reproducible.\n",
    "seed_val = 42\n",
    "random.seed(seed_val)\n",
    "np.random.seed(seed_val)\n",
    "torch.manual_seed(seed_val)\n",
    "torch.cuda.manual_seed_all(seed_val)\n",
    "# Store the average loss after each epoch so we can plot them.\n",
    "loss_values = []\n",
    "# For each epoch...\n",
    "for epoch_i in range(0, epochs):\n",
    "    \n",
    "    # ========================================\n",
    "    #               Training\n",
    "    # ========================================\n",
    "    \n",
    "    # Perform one full pass over the training set.\n",
    "    print(\"\")\n",
    "    print('======== Epoch {:} / {:} ========'.format(epoch_i + 1, epochs))\n",
    "    print('Training...')\n",
    "    # Measure how long the training epoch takes.\n",
    "    t0 = time.time()\n",
    "    # Reset the total loss for this epoch.\n",
    "    total_loss = 0\n",
    "    # Put the model into training mode. Don't be mislead--the call to \n",
    "    # `train` just changes the *mode*, it doesn't *perform* the training.\n",
    "    # `dropout` and `batchnorm` layers behave differently during training\n",
    "    # vs. test (source: https://stackoverflow.com/questions/51433378/what-does-model-train-do-in-pytorch)\n",
    "    model.train()\n",
    "    # For each batch of training data...\n",
    "    for step, batch in enumerate(dataloader_train):\n",
    "        # Progress update every 40 batches.\n",
    "        if step % 40 == 0 and not step == 0:\n",
    "            # Calculate elapsed time in minutes.\n",
    "            elapsed = format_time(time.time() - t0)\n",
    "            \n",
    "            # Report progress.\n",
    "            print('  Batch {:>5,}  of  {:>5,}.    Elapsed: {:}.'.format(step, len(dataloader_train), elapsed))\n",
    "        # Unpack this training batch from our dataloader. \n",
    "        #\n",
    "        # As we unpack the batch, we'll also copy each tensor to the GPU using the \n",
    "        # `to` method.\n",
    "        #\n",
    "        # `batch` contains three pytorch tensors:\n",
    "        #   [0]: input ids \n",
    "        #   [1]: attention masks\n",
    "        #   [2]: labels \n",
    "        b_input_ids = batch[0].to(device)\n",
    "        b_input_mask = batch[1].to(device)\n",
    "        b_labels = batch[2].to(device)\n",
    "        # Always clear any previously calculated gradients before performing a\n",
    "        # backward pass. PyTorch doesn't do this automatically because \n",
    "        # accumulating the gradients is \"convenient while training RNNs\". \n",
    "        # (source: https://stackoverflow.com/questions/48001598/why-do-we-need-to-call-zero-grad-in-pytorch)\n",
    "        model.zero_grad()        \n",
    "        # Perform a forward pass (evaluate the model on this training batch).\n",
    "        # This will return the loss (rather than the model output) because we\n",
    "        # have provided the `labels`.\n",
    "        # The documentation for this `model` function is here: \n",
    "        # https://huggingface.co/transformers/v2.2.0/model_doc/bert.html#transformers.BertForSequenceClassification\n",
    "        outputs = model(b_input_ids,  \n",
    "                    attention_mask=b_input_mask)\n",
    "        \n",
    "        # The call to `model` always returns a tuple, so we need to pull the \n",
    "        # loss value out of the tuple.\n",
    "        # output=torch.argmax(outputs,axis=1)\n",
    "        # print(outputs)\n",
    "        # print(b_labels)\n",
    "        loss=loss_fn(outputs, b_labels)\n",
    "\n",
    "        # print(\"loss \",loss)\n",
    "        # Accumulate the training loss over all of the batches so that we can\n",
    "        # calculate the average loss at the end. `loss` is a Tensor containing a\n",
    "        # single value; the `.item()` function just returns the Python value \n",
    "        # from the tensor.\n",
    "        total_loss += loss.item()\n",
    "        # Perform a backward pass to calculate the gradients.\n",
    "        loss.backward()\n",
    "        # Clip the norm of the gradients to 1.0.\n",
    "        # This is to help prevent the \"exploding gradients\" problem.\n",
    "        torch.nn.utils.clip_grad_norm_(model.parameters(), 1.0)\n",
    "        # Update parameters and take a step using the computed gradient.\n",
    "        # The optimizer dictates the \"update rule\"--how the parameters are\n",
    "        # modified based on their gradients, the learning rate, etc.\n",
    "        optimizer.step()\n",
    "        # Update the learning rate.\n",
    "        scheduler.step()\n",
    "    # Calculate the average loss over the training data.\n",
    "    avg_train_loss = total_loss / len(dataloader_train)            \n",
    "    \n",
    "    # Store the loss value for plotting the learning curve.\n",
    "    loss_values.append(avg_train_loss)\n",
    "    print(\"\")\n",
    "    print(\"  Average training loss: {0:.2f}\".format(avg_train_loss))\n",
    "    print(\"  Training epcoh took: {:}\".format(format_time(time.time() - t0)))\n",
    "        \n",
    "    # ========================================\n",
    "    #               Validation\n",
    "    # ========================================\n",
    "    # After the completion of each training epoch, measure our performance on\n",
    "    # our validation set.\n",
    "    print(\"\")\n",
    "    print(\"Running Validation...\")\n",
    "    t0 = time.time()\n",
    "    # Put the model in evaluation mode--the dropout layers behave differently\n",
    "    # during evaluation.\n",
    "    model.eval()\n",
    "    # Tracking variables \n",
    "    eval_loss, eval_accuracy = 0, 0\n",
    "    nb_eval_steps, nb_eval_examples = 0, 0\n",
    "    # Evaluate data for one epoch\n",
    "    for batch in dataloader_val:\n",
    "        \n",
    "        # Add batch to GPU\n",
    "        batch = tuple(t.to(device) for t in batch)\n",
    "        \n",
    "        # Unpack the inputs from our dataloader\n",
    "        b_input_ids, b_input_mask, b_labels = batch\n",
    "        \n",
    "        # Telling the model not to compute or store gradients, saving memory and\n",
    "        # speeding up validation\n",
    "        with torch.no_grad():        \n",
    "            # Forward pass, calculate logit predictions.\n",
    "            # This will return the logits rather than the loss because we have\n",
    "            # not provided labels.\n",
    "            # token_type_ids is the same as the \"segment ids\", which \n",
    "            # differentiates sentence 1 and 2 in 2-sentence tasks.\n",
    "            # The documentation for this `model` function is here: \n",
    "            # https://huggingface.co/transformers/v2.2.0/model_doc/bert.html#transformers.BertForSequenceClassification\n",
    "            outputs = model(b_input_ids,  \n",
    "                            attention_mask=b_input_mask)\n",
    "        \n",
    "        # Get the \"logits\" output by the model. The \"logits\" are the output\n",
    "        # values prior to applying an activation function like the softmax.\n",
    "        # logits = outputs[0]\n",
    "        logits=torch.sigmoid(outputs)\n",
    "\n",
    "        # Move logits and labels to CPU\n",
    "        logits = logits.detach().cpu().numpy()\n",
    "        label_ids = b_labels.to('cpu').numpy()\n",
    "        \n",
    "        # Calculate the accuracy for this batch of test sentences.\n",
    "        tmp_eval_accuracy = flat_accuracy(logits, label_ids)\n",
    "        \n",
    "        # Accumulate the total accuracy.\n",
    "        eval_accuracy += tmp_eval_accuracy\n",
    "        # Track the number of batches\n",
    "        nb_eval_steps += 1\n",
    "    # Report the final accuracy for this validation run.\n",
    "    print(\"  Accuracy: {0:.2f}\".format(eval_accuracy/nb_eval_steps))\n",
    "    print(\"  Validation took: {:}\".format(format_time(time.time() - t0)))\n",
    "print(\"\")\n",
    "print(\"Training complete!\")"
   ]
  },
  {
   "cell_type": "code",
   "execution_count": 27,
   "id": "billion-blank",
   "metadata": {
    "execution": {
     "iopub.execute_input": "2021-04-27T15:46:18.126964Z",
     "iopub.status.busy": "2021-04-27T15:46:18.125976Z",
     "iopub.status.idle": "2021-04-27T15:46:18.130385Z",
     "shell.execute_reply": "2021-04-27T15:46:18.129804Z"
    },
    "papermill": {
     "duration": 0.077333,
     "end_time": "2021-04-27T15:46:18.130544",
     "exception": false,
     "start_time": "2021-04-27T15:46:18.053211",
     "status": "completed"
    },
    "tags": []
   },
   "outputs": [],
   "source": [
    "#Generating output file\n"
   ]
  },
  {
   "cell_type": "code",
   "execution_count": 28,
   "id": "ultimate-journal",
   "metadata": {
    "execution": {
     "iopub.execute_input": "2021-04-27T15:46:18.310475Z",
     "iopub.status.busy": "2021-04-27T15:46:18.300208Z",
     "iopub.status.idle": "2021-04-27T15:46:18.373589Z",
     "shell.execute_reply": "2021-04-27T15:46:18.372744Z"
    },
    "papermill": {
     "duration": 0.170588,
     "end_time": "2021-04-27T15:46:18.373743",
     "exception": false,
     "start_time": "2021-04-27T15:46:18.203155",
     "status": "completed"
    },
    "tags": []
   },
   "outputs": [],
   "source": [
    "test['cleaned']=test['text'].apply(lambda x: cleaning_text(x,lemmitize=False))"
   ]
  },
  {
   "cell_type": "code",
   "execution_count": 29,
   "id": "tracked-colonial",
   "metadata": {
    "execution": {
     "iopub.execute_input": "2021-04-27T15:46:18.529697Z",
     "iopub.status.busy": "2021-04-27T15:46:18.528567Z",
     "iopub.status.idle": "2021-04-27T15:46:18.533685Z",
     "shell.execute_reply": "2021-04-27T15:46:18.532859Z"
    },
    "papermill": {
     "duration": 0.089814,
     "end_time": "2021-04-27T15:46:18.533841",
     "exception": false,
     "start_time": "2021-04-27T15:46:18.444027",
     "status": "completed"
    },
    "tags": []
   },
   "outputs": [
    {
     "data": {
      "text/html": [
       "<div>\n",
       "<style scoped>\n",
       "    .dataframe tbody tr th:only-of-type {\n",
       "        vertical-align: middle;\n",
       "    }\n",
       "\n",
       "    .dataframe tbody tr th {\n",
       "        vertical-align: top;\n",
       "    }\n",
       "\n",
       "    .dataframe thead th {\n",
       "        text-align: right;\n",
       "    }\n",
       "</style>\n",
       "<table border=\"1\" class=\"dataframe\">\n",
       "  <thead>\n",
       "    <tr style=\"text-align: right;\">\n",
       "      <th></th>\n",
       "      <th>id</th>\n",
       "      <th>keyword</th>\n",
       "      <th>location</th>\n",
       "      <th>text</th>\n",
       "      <th>cleaned</th>\n",
       "    </tr>\n",
       "  </thead>\n",
       "  <tbody>\n",
       "    <tr>\n",
       "      <th>0</th>\n",
       "      <td>0</td>\n",
       "      <td>NaN</td>\n",
       "      <td>NaN</td>\n",
       "      <td>Just happened a terrible car crash</td>\n",
       "      <td>just happened a terrible car crash</td>\n",
       "    </tr>\n",
       "    <tr>\n",
       "      <th>1</th>\n",
       "      <td>2</td>\n",
       "      <td>NaN</td>\n",
       "      <td>NaN</td>\n",
       "      <td>Heard about #earthquake is different cities, s...</td>\n",
       "      <td>heard about earthquake is different cities sta...</td>\n",
       "    </tr>\n",
       "    <tr>\n",
       "      <th>2</th>\n",
       "      <td>3</td>\n",
       "      <td>NaN</td>\n",
       "      <td>NaN</td>\n",
       "      <td>there is a forest fire at spot pond, geese are...</td>\n",
       "      <td>there is a forest fire at spot pond geese are ...</td>\n",
       "    </tr>\n",
       "    <tr>\n",
       "      <th>3</th>\n",
       "      <td>9</td>\n",
       "      <td>NaN</td>\n",
       "      <td>NaN</td>\n",
       "      <td>Apocalypse lighting. #Spokane #wildfires</td>\n",
       "      <td>apocalypse lighting spokane wildfires</td>\n",
       "    </tr>\n",
       "    <tr>\n",
       "      <th>4</th>\n",
       "      <td>11</td>\n",
       "      <td>NaN</td>\n",
       "      <td>NaN</td>\n",
       "      <td>Typhoon Soudelor kills 28 in China and Taiwan</td>\n",
       "      <td>typhoon soudelor kills 28 in china and taiwan</td>\n",
       "    </tr>\n",
       "  </tbody>\n",
       "</table>\n",
       "</div>"
      ],
      "text/plain": [
       "   id keyword location                                               text  \\\n",
       "0   0     NaN      NaN                 Just happened a terrible car crash   \n",
       "1   2     NaN      NaN  Heard about #earthquake is different cities, s...   \n",
       "2   3     NaN      NaN  there is a forest fire at spot pond, geese are...   \n",
       "3   9     NaN      NaN           Apocalypse lighting. #Spokane #wildfires   \n",
       "4  11     NaN      NaN      Typhoon Soudelor kills 28 in China and Taiwan   \n",
       "\n",
       "                                             cleaned  \n",
       "0                 just happened a terrible car crash  \n",
       "1  heard about earthquake is different cities sta...  \n",
       "2  there is a forest fire at spot pond geese are ...  \n",
       "3              apocalypse lighting spokane wildfires  \n",
       "4      typhoon soudelor kills 28 in china and taiwan  "
      ]
     },
     "execution_count": 29,
     "metadata": {},
     "output_type": "execute_result"
    }
   ],
   "source": [
    "test.head()"
   ]
  },
  {
   "cell_type": "code",
   "execution_count": 30,
   "id": "announced-controversy",
   "metadata": {
    "execution": {
     "iopub.execute_input": "2021-04-27T15:46:18.691692Z",
     "iopub.status.busy": "2021-04-27T15:46:18.690678Z",
     "iopub.status.idle": "2021-04-27T15:46:21.147279Z",
     "shell.execute_reply": "2021-04-27T15:46:21.146606Z"
    },
    "papermill": {
     "duration": 2.541388,
     "end_time": "2021-04-27T15:46:21.147506",
     "exception": false,
     "start_time": "2021-04-27T15:46:18.606118",
     "status": "completed"
    },
    "tags": []
   },
   "outputs": [],
   "source": [
    "encoded_data_test = tokenizer.batch_encode_plus(\n",
    "    test['cleaned'].values, \n",
    "    add_special_tokens=True, \n",
    "    return_attention_mask=True, \n",
    "    pad_to_max_length=True, \n",
    "    padding='max_length',\n",
    "    max_length=50, \n",
    "    return_tensors='pt',\n",
    "    truncation=True,\n",
    "    return_token_type_ids=False\n",
    ")"
   ]
  },
  {
   "cell_type": "code",
   "execution_count": 31,
   "id": "apparent-pension",
   "metadata": {
    "execution": {
     "iopub.execute_input": "2021-04-27T15:46:21.303364Z",
     "iopub.status.busy": "2021-04-27T15:46:21.302375Z",
     "iopub.status.idle": "2021-04-27T15:46:21.307016Z",
     "shell.execute_reply": "2021-04-27T15:46:21.306344Z"
    },
    "papermill": {
     "duration": 0.085137,
     "end_time": "2021-04-27T15:46:21.307218",
     "exception": false,
     "start_time": "2021-04-27T15:46:21.222081",
     "status": "completed"
    },
    "tags": []
   },
   "outputs": [],
   "source": [
    "input_ids_test = encoded_data_test['input_ids']\n",
    "attention_masks_test = encoded_data_test['attention_mask']\n",
    "\n",
    "\n",
    "# making dataset\n",
    "dataset_test = TensorDataset(input_ids_test, attention_masks_test)\n",
    "\n",
    "\n",
    "# making dataloader\n",
    "dataloader_test = DataLoader(dataset_test,sampler=SequentialSampler(dataset_test), batch_size=1)"
   ]
  },
  {
   "cell_type": "code",
   "execution_count": 32,
   "id": "romance-french",
   "metadata": {
    "execution": {
     "iopub.execute_input": "2021-04-27T15:46:21.462586Z",
     "iopub.status.busy": "2021-04-27T15:46:21.461560Z",
     "iopub.status.idle": "2021-04-27T15:47:22.571243Z",
     "shell.execute_reply": "2021-04-27T15:47:22.571812Z"
    },
    "papermill": {
     "duration": 61.192035,
     "end_time": "2021-04-27T15:47:22.571987",
     "exception": false,
     "start_time": "2021-04-27T15:46:21.379952",
     "status": "completed"
    },
    "tags": []
   },
   "outputs": [
    {
     "name": "stdout",
     "output_type": "stream",
     "text": [
      "Predicting labels for 3,263 test sentences...\n",
      "DONE.\n"
     ]
    }
   ],
   "source": [
    "\n",
    "# Prediction on test set\n",
    "print('Predicting labels for {:,} test sentences...'.format(len(dataloader_test)))\n",
    "# Put model in evaluation mode\n",
    "model.eval()\n",
    "# Tracking variables \n",
    "predictions , true_labels = [], []\n",
    "# Predict \n",
    "for batch in dataloader_test:\n",
    "  # Add batch to GPU\n",
    "  batch = tuple(t.to(device) for t in batch)\n",
    "  \n",
    "  # Unpack the inputs from our dataloader\n",
    "  b_input_ids, b_input_mask = batch\n",
    "  \n",
    "  # Telling the model not to compute or store gradients, saving memory and \n",
    "  # speeding up prediction\n",
    "  with torch.no_grad():\n",
    "      # Forward pass, calculate logit predictions\n",
    "      outputs = model(b_input_ids,attention_mask=b_input_mask)\n",
    "  # logits = outputs[0]\n",
    "  logits=torch.sigmoid(outputs)\n",
    "\n",
    "      \n",
    "\n",
    "\n",
    "  # Move logits and labels to CPU\n",
    "  logits = logits.detach().cpu().numpy()\n",
    "  # label_ids = b_labels.to('cpu').numpy()\n",
    "  \n",
    "  # Store predictions and true labels\n",
    "  predictions.append(logits)\n",
    "  # true_labels.append(label_ids)\n",
    "print('DONE.')"
   ]
  },
  {
   "cell_type": "code",
   "execution_count": 33,
   "id": "ready-property",
   "metadata": {
    "execution": {
     "iopub.execute_input": "2021-04-27T15:47:22.716676Z",
     "iopub.status.busy": "2021-04-27T15:47:22.715700Z",
     "iopub.status.idle": "2021-04-27T15:47:22.730889Z",
     "shell.execute_reply": "2021-04-27T15:47:22.731326Z"
    },
    "papermill": {
     "duration": 0.090606,
     "end_time": "2021-04-27T15:47:22.731507",
     "exception": false,
     "start_time": "2021-04-27T15:47:22.640901",
     "status": "completed"
    },
    "tags": []
   },
   "outputs": [],
   "source": [
    "pred_flat=[]\n",
    "for i in predictions:\n",
    "  pred_flat.append(np.argmax(i, axis=1).tolist())"
   ]
  },
  {
   "cell_type": "code",
   "execution_count": 34,
   "id": "mexican-cambridge",
   "metadata": {
    "execution": {
     "iopub.execute_input": "2021-04-27T15:47:22.882875Z",
     "iopub.status.busy": "2021-04-27T15:47:22.881683Z",
     "iopub.status.idle": "2021-04-27T15:47:22.886723Z",
     "shell.execute_reply": "2021-04-27T15:47:22.886085Z"
    },
    "papermill": {
     "duration": 0.0855,
     "end_time": "2021-04-27T15:47:22.886847",
     "exception": false,
     "start_time": "2021-04-27T15:47:22.801347",
     "status": "completed"
    },
    "tags": []
   },
   "outputs": [
    {
     "data": {
      "text/html": [
       "<div>\n",
       "<style scoped>\n",
       "    .dataframe tbody tr th:only-of-type {\n",
       "        vertical-align: middle;\n",
       "    }\n",
       "\n",
       "    .dataframe tbody tr th {\n",
       "        vertical-align: top;\n",
       "    }\n",
       "\n",
       "    .dataframe thead th {\n",
       "        text-align: right;\n",
       "    }\n",
       "</style>\n",
       "<table border=\"1\" class=\"dataframe\">\n",
       "  <thead>\n",
       "    <tr style=\"text-align: right;\">\n",
       "      <th></th>\n",
       "      <th>id</th>\n",
       "      <th>keyword</th>\n",
       "      <th>location</th>\n",
       "      <th>text</th>\n",
       "      <th>cleaned</th>\n",
       "    </tr>\n",
       "  </thead>\n",
       "  <tbody>\n",
       "    <tr>\n",
       "      <th>0</th>\n",
       "      <td>0</td>\n",
       "      <td>NaN</td>\n",
       "      <td>NaN</td>\n",
       "      <td>Just happened a terrible car crash</td>\n",
       "      <td>just happened a terrible car crash</td>\n",
       "    </tr>\n",
       "    <tr>\n",
       "      <th>1</th>\n",
       "      <td>2</td>\n",
       "      <td>NaN</td>\n",
       "      <td>NaN</td>\n",
       "      <td>Heard about #earthquake is different cities, s...</td>\n",
       "      <td>heard about earthquake is different cities sta...</td>\n",
       "    </tr>\n",
       "    <tr>\n",
       "      <th>2</th>\n",
       "      <td>3</td>\n",
       "      <td>NaN</td>\n",
       "      <td>NaN</td>\n",
       "      <td>there is a forest fire at spot pond, geese are...</td>\n",
       "      <td>there is a forest fire at spot pond geese are ...</td>\n",
       "    </tr>\n",
       "    <tr>\n",
       "      <th>3</th>\n",
       "      <td>9</td>\n",
       "      <td>NaN</td>\n",
       "      <td>NaN</td>\n",
       "      <td>Apocalypse lighting. #Spokane #wildfires</td>\n",
       "      <td>apocalypse lighting spokane wildfires</td>\n",
       "    </tr>\n",
       "    <tr>\n",
       "      <th>4</th>\n",
       "      <td>11</td>\n",
       "      <td>NaN</td>\n",
       "      <td>NaN</td>\n",
       "      <td>Typhoon Soudelor kills 28 in China and Taiwan</td>\n",
       "      <td>typhoon soudelor kills 28 in china and taiwan</td>\n",
       "    </tr>\n",
       "  </tbody>\n",
       "</table>\n",
       "</div>"
      ],
      "text/plain": [
       "   id keyword location                                               text  \\\n",
       "0   0     NaN      NaN                 Just happened a terrible car crash   \n",
       "1   2     NaN      NaN  Heard about #earthquake is different cities, s...   \n",
       "2   3     NaN      NaN  there is a forest fire at spot pond, geese are...   \n",
       "3   9     NaN      NaN           Apocalypse lighting. #Spokane #wildfires   \n",
       "4  11     NaN      NaN      Typhoon Soudelor kills 28 in China and Taiwan   \n",
       "\n",
       "                                             cleaned  \n",
       "0                 just happened a terrible car crash  \n",
       "1  heard about earthquake is different cities sta...  \n",
       "2  there is a forest fire at spot pond geese are ...  \n",
       "3              apocalypse lighting spokane wildfires  \n",
       "4      typhoon soudelor kills 28 in china and taiwan  "
      ]
     },
     "execution_count": 34,
     "metadata": {},
     "output_type": "execute_result"
    }
   ],
   "source": [
    "test.head()"
   ]
  },
  {
   "cell_type": "code",
   "execution_count": 35,
   "id": "overhead-factory",
   "metadata": {
    "execution": {
     "iopub.execute_input": "2021-04-27T15:47:23.041071Z",
     "iopub.status.busy": "2021-04-27T15:47:23.039984Z",
     "iopub.status.idle": "2021-04-27T15:47:23.063884Z",
     "shell.execute_reply": "2021-04-27T15:47:23.064379Z"
    },
    "papermill": {
     "duration": 0.108292,
     "end_time": "2021-04-27T15:47:23.064538",
     "exception": false,
     "start_time": "2021-04-27T15:47:22.956246",
     "status": "completed"
    },
    "tags": []
   },
   "outputs": [],
   "source": [
    "to_sumbit=[]\n",
    "for i in range(len(test)):\n",
    "  to_sumbit.append([test['id'][i],pred_flat[i][0]])\n",
    "  # break"
   ]
  },
  {
   "cell_type": "code",
   "execution_count": 36,
   "id": "beautiful-violation",
   "metadata": {
    "execution": {
     "iopub.execute_input": "2021-04-27T15:47:23.213316Z",
     "iopub.status.busy": "2021-04-27T15:47:23.212498Z",
     "iopub.status.idle": "2021-04-27T15:47:23.216993Z",
     "shell.execute_reply": "2021-04-27T15:47:23.216482Z"
    },
    "papermill": {
     "duration": 0.082569,
     "end_time": "2021-04-27T15:47:23.217134",
     "exception": false,
     "start_time": "2021-04-27T15:47:23.134565",
     "status": "completed"
    },
    "tags": []
   },
   "outputs": [],
   "source": [
    "df_sumbit=pd.DataFrame(to_sumbit,columns=['id','target'])"
   ]
  },
  {
   "cell_type": "code",
   "execution_count": 37,
   "id": "waiting-algeria",
   "metadata": {
    "execution": {
     "iopub.execute_input": "2021-04-27T15:47:23.362987Z",
     "iopub.status.busy": "2021-04-27T15:47:23.361827Z",
     "iopub.status.idle": "2021-04-27T15:47:23.542920Z",
     "shell.execute_reply": "2021-04-27T15:47:23.542184Z"
    },
    "papermill": {
     "duration": 0.255473,
     "end_time": "2021-04-27T15:47:23.543079",
     "exception": false,
     "start_time": "2021-04-27T15:47:23.287606",
     "status": "completed"
    },
    "tags": []
   },
   "outputs": [],
   "source": [
    "df_sumbit.to_csv(\"submission.csv\",index=None)"
   ]
  },
  {
   "cell_type": "code",
   "execution_count": null,
   "id": "catholic-strike",
   "metadata": {
    "papermill": {
     "duration": 0.076462,
     "end_time": "2021-04-27T15:47:23.692280",
     "exception": false,
     "start_time": "2021-04-27T15:47:23.615818",
     "status": "completed"
    },
    "tags": []
   },
   "outputs": [],
   "source": []
  }
 ],
 "metadata": {
  "kernelspec": {
   "display_name": "Python 3",
   "language": "python",
   "name": "python3"
  },
  "language_info": {
   "codemirror_mode": {
    "name": "ipython",
    "version": 3
   },
   "file_extension": ".py",
   "mimetype": "text/x-python",
   "name": "python",
   "nbconvert_exporter": "python",
   "pygments_lexer": "ipython3",
   "version": "3.7.10"
  },
  "papermill": {
   "default_parameters": {},
   "duration": 463.039016,
   "end_time": "2021-04-27T15:47:27.281389",
   "environment_variables": {},
   "exception": null,
   "input_path": "__notebook__.ipynb",
   "output_path": "__notebook__.ipynb",
   "parameters": {},
   "start_time": "2021-04-27T15:39:44.242373",
   "version": "2.3.3"
  },
  "widgets": {
   "application/vnd.jupyter.widget-state+json": {
    "state": {
     "033b578462164c2dab93d4239476ab8c": {
      "model_module": "@jupyter-widgets/base",
      "model_module_version": "1.2.0",
      "model_name": "LayoutModel",
      "state": {
       "_model_module": "@jupyter-widgets/base",
       "_model_module_version": "1.2.0",
       "_model_name": "LayoutModel",
       "_view_count": null,
       "_view_module": "@jupyter-widgets/base",
       "_view_module_version": "1.2.0",
       "_view_name": "LayoutView",
       "align_content": null,
       "align_items": null,
       "align_self": null,
       "border": null,
       "bottom": null,
       "display": null,
       "flex": null,
       "flex_flow": null,
       "grid_area": null,
       "grid_auto_columns": null,
       "grid_auto_flow": null,
       "grid_auto_rows": null,
       "grid_column": null,
       "grid_gap": null,
       "grid_row": null,
       "grid_template_areas": null,
       "grid_template_columns": null,
       "grid_template_rows": null,
       "height": null,
       "justify_content": null,
       "justify_items": null,
       "left": null,
       "margin": null,
       "max_height": null,
       "max_width": null,
       "min_height": null,
       "min_width": null,
       "object_fit": null,
       "object_position": null,
       "order": null,
       "overflow": null,
       "overflow_x": null,
       "overflow_y": null,
       "padding": null,
       "right": null,
       "top": null,
       "visibility": null,
       "width": null
      }
     },
     "0e111cc45fd84ce0957dfb6391c45483": {
      "model_module": "@jupyter-widgets/controls",
      "model_module_version": "1.5.0",
      "model_name": "DescriptionStyleModel",
      "state": {
       "_model_module": "@jupyter-widgets/controls",
       "_model_module_version": "1.5.0",
       "_model_name": "DescriptionStyleModel",
       "_view_count": null,
       "_view_module": "@jupyter-widgets/base",
       "_view_module_version": "1.2.0",
       "_view_name": "StyleView",
       "description_width": ""
      }
     },
     "11a0770aac9542d793b96ec2bf4ed99c": {
      "model_module": "@jupyter-widgets/base",
      "model_module_version": "1.2.0",
      "model_name": "LayoutModel",
      "state": {
       "_model_module": "@jupyter-widgets/base",
       "_model_module_version": "1.2.0",
       "_model_name": "LayoutModel",
       "_view_count": null,
       "_view_module": "@jupyter-widgets/base",
       "_view_module_version": "1.2.0",
       "_view_name": "LayoutView",
       "align_content": null,
       "align_items": null,
       "align_self": null,
       "border": null,
       "bottom": null,
       "display": null,
       "flex": null,
       "flex_flow": null,
       "grid_area": null,
       "grid_auto_columns": null,
       "grid_auto_flow": null,
       "grid_auto_rows": null,
       "grid_column": null,
       "grid_gap": null,
       "grid_row": null,
       "grid_template_areas": null,
       "grid_template_columns": null,
       "grid_template_rows": null,
       "height": null,
       "justify_content": null,
       "justify_items": null,
       "left": null,
       "margin": null,
       "max_height": null,
       "max_width": null,
       "min_height": null,
       "min_width": null,
       "object_fit": null,
       "object_position": null,
       "order": null,
       "overflow": null,
       "overflow_x": null,
       "overflow_y": null,
       "padding": null,
       "right": null,
       "top": null,
       "visibility": null,
       "width": null
      }
     },
     "151b21d9a0db40fc9749f0ecdb3481f3": {
      "model_module": "@jupyter-widgets/base",
      "model_module_version": "1.2.0",
      "model_name": "LayoutModel",
      "state": {
       "_model_module": "@jupyter-widgets/base",
       "_model_module_version": "1.2.0",
       "_model_name": "LayoutModel",
       "_view_count": null,
       "_view_module": "@jupyter-widgets/base",
       "_view_module_version": "1.2.0",
       "_view_name": "LayoutView",
       "align_content": null,
       "align_items": null,
       "align_self": null,
       "border": null,
       "bottom": null,
       "display": null,
       "flex": null,
       "flex_flow": null,
       "grid_area": null,
       "grid_auto_columns": null,
       "grid_auto_flow": null,
       "grid_auto_rows": null,
       "grid_column": null,
       "grid_gap": null,
       "grid_row": null,
       "grid_template_areas": null,
       "grid_template_columns": null,
       "grid_template_rows": null,
       "height": null,
       "justify_content": null,
       "justify_items": null,
       "left": null,
       "margin": null,
       "max_height": null,
       "max_width": null,
       "min_height": null,
       "min_width": null,
       "object_fit": null,
       "object_position": null,
       "order": null,
       "overflow": null,
       "overflow_x": null,
       "overflow_y": null,
       "padding": null,
       "right": null,
       "top": null,
       "visibility": null,
       "width": null
      }
     },
     "19f9eb84585d4321b3b87c7c74306afe": {
      "model_module": "@jupyter-widgets/base",
      "model_module_version": "1.2.0",
      "model_name": "LayoutModel",
      "state": {
       "_model_module": "@jupyter-widgets/base",
       "_model_module_version": "1.2.0",
       "_model_name": "LayoutModel",
       "_view_count": null,
       "_view_module": "@jupyter-widgets/base",
       "_view_module_version": "1.2.0",
       "_view_name": "LayoutView",
       "align_content": null,
       "align_items": null,
       "align_self": null,
       "border": null,
       "bottom": null,
       "display": null,
       "flex": null,
       "flex_flow": null,
       "grid_area": null,
       "grid_auto_columns": null,
       "grid_auto_flow": null,
       "grid_auto_rows": null,
       "grid_column": null,
       "grid_gap": null,
       "grid_row": null,
       "grid_template_areas": null,
       "grid_template_columns": null,
       "grid_template_rows": null,
       "height": null,
       "justify_content": null,
       "justify_items": null,
       "left": null,
       "margin": null,
       "max_height": null,
       "max_width": null,
       "min_height": null,
       "min_width": null,
       "object_fit": null,
       "object_position": null,
       "order": null,
       "overflow": null,
       "overflow_x": null,
       "overflow_y": null,
       "padding": null,
       "right": null,
       "top": null,
       "visibility": null,
       "width": null
      }
     },
     "1a5c5701f27443c394d1611580cda309": {
      "model_module": "@jupyter-widgets/base",
      "model_module_version": "1.2.0",
      "model_name": "LayoutModel",
      "state": {
       "_model_module": "@jupyter-widgets/base",
       "_model_module_version": "1.2.0",
       "_model_name": "LayoutModel",
       "_view_count": null,
       "_view_module": "@jupyter-widgets/base",
       "_view_module_version": "1.2.0",
       "_view_name": "LayoutView",
       "align_content": null,
       "align_items": null,
       "align_self": null,
       "border": null,
       "bottom": null,
       "display": null,
       "flex": null,
       "flex_flow": null,
       "grid_area": null,
       "grid_auto_columns": null,
       "grid_auto_flow": null,
       "grid_auto_rows": null,
       "grid_column": null,
       "grid_gap": null,
       "grid_row": null,
       "grid_template_areas": null,
       "grid_template_columns": null,
       "grid_template_rows": null,
       "height": null,
       "justify_content": null,
       "justify_items": null,
       "left": null,
       "margin": null,
       "max_height": null,
       "max_width": null,
       "min_height": null,
       "min_width": null,
       "object_fit": null,
       "object_position": null,
       "order": null,
       "overflow": null,
       "overflow_x": null,
       "overflow_y": null,
       "padding": null,
       "right": null,
       "top": null,
       "visibility": null,
       "width": null
      }
     },
     "1e0fee64bb504bb1806921cd43324f9f": {
      "model_module": "@jupyter-widgets/controls",
      "model_module_version": "1.5.0",
      "model_name": "DescriptionStyleModel",
      "state": {
       "_model_module": "@jupyter-widgets/controls",
       "_model_module_version": "1.5.0",
       "_model_name": "DescriptionStyleModel",
       "_view_count": null,
       "_view_module": "@jupyter-widgets/base",
       "_view_module_version": "1.2.0",
       "_view_name": "StyleView",
       "description_width": ""
      }
     },
     "1f747bf9a36c42b28e128a261ea037b6": {
      "model_module": "@jupyter-widgets/controls",
      "model_module_version": "1.5.0",
      "model_name": "DescriptionStyleModel",
      "state": {
       "_model_module": "@jupyter-widgets/controls",
       "_model_module_version": "1.5.0",
       "_model_name": "DescriptionStyleModel",
       "_view_count": null,
       "_view_module": "@jupyter-widgets/base",
       "_view_module_version": "1.2.0",
       "_view_name": "StyleView",
       "description_width": ""
      }
     },
     "26a098648d6d404eb3d941ed695663cf": {
      "model_module": "@jupyter-widgets/controls",
      "model_module_version": "1.5.0",
      "model_name": "HTMLModel",
      "state": {
       "_dom_classes": [],
       "_model_module": "@jupyter-widgets/controls",
       "_model_module_version": "1.5.0",
       "_model_name": "HTMLModel",
       "_view_count": null,
       "_view_module": "@jupyter-widgets/controls",
       "_view_module_version": "1.5.0",
       "_view_name": "HTMLView",
       "description": "",
       "description_tooltip": null,
       "layout": "IPY_MODEL_151b21d9a0db40fc9749f0ecdb3481f3",
       "placeholder": "​",
       "style": "IPY_MODEL_f6402756b6c84550b5d7b80c181f0660",
       "value": "Downloading: 100%"
      }
     },
     "2d6d6d57950546d1a5207a15bf11c938": {
      "model_module": "@jupyter-widgets/controls",
      "model_module_version": "1.5.0",
      "model_name": "ProgressStyleModel",
      "state": {
       "_model_module": "@jupyter-widgets/controls",
       "_model_module_version": "1.5.0",
       "_model_name": "ProgressStyleModel",
       "_view_count": null,
       "_view_module": "@jupyter-widgets/base",
       "_view_module_version": "1.2.0",
       "_view_name": "StyleView",
       "bar_color": null,
       "description_width": ""
      }
     },
     "35a18c1bd6864a9087df443361b95f1b": {
      "model_module": "@jupyter-widgets/base",
      "model_module_version": "1.2.0",
      "model_name": "LayoutModel",
      "state": {
       "_model_module": "@jupyter-widgets/base",
       "_model_module_version": "1.2.0",
       "_model_name": "LayoutModel",
       "_view_count": null,
       "_view_module": "@jupyter-widgets/base",
       "_view_module_version": "1.2.0",
       "_view_name": "LayoutView",
       "align_content": null,
       "align_items": null,
       "align_self": null,
       "border": null,
       "bottom": null,
       "display": null,
       "flex": null,
       "flex_flow": null,
       "grid_area": null,
       "grid_auto_columns": null,
       "grid_auto_flow": null,
       "grid_auto_rows": null,
       "grid_column": null,
       "grid_gap": null,
       "grid_row": null,
       "grid_template_areas": null,
       "grid_template_columns": null,
       "grid_template_rows": null,
       "height": null,
       "justify_content": null,
       "justify_items": null,
       "left": null,
       "margin": null,
       "max_height": null,
       "max_width": null,
       "min_height": null,
       "min_width": null,
       "object_fit": null,
       "object_position": null,
       "order": null,
       "overflow": null,
       "overflow_x": null,
       "overflow_y": null,
       "padding": null,
       "right": null,
       "top": null,
       "visibility": null,
       "width": null
      }
     },
     "36ade63045f94d74bbff79f4849f7a24": {
      "model_module": "@jupyter-widgets/controls",
      "model_module_version": "1.5.0",
      "model_name": "HTMLModel",
      "state": {
       "_dom_classes": [],
       "_model_module": "@jupyter-widgets/controls",
       "_model_module_version": "1.5.0",
       "_model_name": "HTMLModel",
       "_view_count": null,
       "_view_module": "@jupyter-widgets/controls",
       "_view_module_version": "1.5.0",
       "_view_name": "HTMLView",
       "description": "",
       "description_tooltip": null,
       "layout": "IPY_MODEL_1a5c5701f27443c394d1611580cda309",
       "placeholder": "​",
       "style": "IPY_MODEL_983cc0081b4b40f780e040f96b6c8611",
       "value": " 28.0/28.0 [00:00&lt;00:00, 760B/s]"
      }
     },
     "46cf83b2f89a432e9935fd6f95a4b9eb": {
      "model_module": "@jupyter-widgets/controls",
      "model_module_version": "1.5.0",
      "model_name": "ProgressStyleModel",
      "state": {
       "_model_module": "@jupyter-widgets/controls",
       "_model_module_version": "1.5.0",
       "_model_name": "ProgressStyleModel",
       "_view_count": null,
       "_view_module": "@jupyter-widgets/base",
       "_view_module_version": "1.2.0",
       "_view_name": "StyleView",
       "bar_color": null,
       "description_width": ""
      }
     },
     "49790506b02841a4a039661e1115f191": {
      "model_module": "@jupyter-widgets/controls",
      "model_module_version": "1.5.0",
      "model_name": "DescriptionStyleModel",
      "state": {
       "_model_module": "@jupyter-widgets/controls",
       "_model_module_version": "1.5.0",
       "_model_name": "DescriptionStyleModel",
       "_view_count": null,
       "_view_module": "@jupyter-widgets/base",
       "_view_module_version": "1.2.0",
       "_view_name": "StyleView",
       "description_width": ""
      }
     },
     "4e100c4d692a4f5681aa476cc51fa2c7": {
      "model_module": "@jupyter-widgets/controls",
      "model_module_version": "1.5.0",
      "model_name": "HBoxModel",
      "state": {
       "_dom_classes": [],
       "_model_module": "@jupyter-widgets/controls",
       "_model_module_version": "1.5.0",
       "_model_name": "HBoxModel",
       "_view_count": null,
       "_view_module": "@jupyter-widgets/controls",
       "_view_module_version": "1.5.0",
       "_view_name": "HBoxView",
       "box_style": "",
       "children": [
        "IPY_MODEL_652d1f268de04736a097ce7d353adc92",
        "IPY_MODEL_ee159a968f0548e79970643eec73898a",
        "IPY_MODEL_7def8ad86c0545e483e7da76d75f8dc3"
       ],
       "layout": "IPY_MODEL_7abe6f03dd374d21abf7e9ce4872f9d8"
      }
     },
     "554f8f352cd2439396daa2b388685feb": {
      "model_module": "@jupyter-widgets/controls",
      "model_module_version": "1.5.0",
      "model_name": "HBoxModel",
      "state": {
       "_dom_classes": [],
       "_model_module": "@jupyter-widgets/controls",
       "_model_module_version": "1.5.0",
       "_model_name": "HBoxModel",
       "_view_count": null,
       "_view_module": "@jupyter-widgets/controls",
       "_view_module_version": "1.5.0",
       "_view_name": "HBoxView",
       "box_style": "",
       "children": [
        "IPY_MODEL_26a098648d6d404eb3d941ed695663cf",
        "IPY_MODEL_c58041b8a4aa4f729b85980f7b73a01a",
        "IPY_MODEL_36ade63045f94d74bbff79f4849f7a24"
       ],
       "layout": "IPY_MODEL_dc544d35c86f46af9332e9e57592ff25"
      }
     },
     "58790c5e934a4ca38b1b2fdfb1fefb7d": {
      "model_module": "@jupyter-widgets/controls",
      "model_module_version": "1.5.0",
      "model_name": "DescriptionStyleModel",
      "state": {
       "_model_module": "@jupyter-widgets/controls",
       "_model_module_version": "1.5.0",
       "_model_name": "DescriptionStyleModel",
       "_view_count": null,
       "_view_module": "@jupyter-widgets/base",
       "_view_module_version": "1.2.0",
       "_view_name": "StyleView",
       "description_width": ""
      }
     },
     "5a3edafa35ef4d3a85413eda9614baa4": {
      "model_module": "@jupyter-widgets/controls",
      "model_module_version": "1.5.0",
      "model_name": "HTMLModel",
      "state": {
       "_dom_classes": [],
       "_model_module": "@jupyter-widgets/controls",
       "_model_module_version": "1.5.0",
       "_model_name": "HTMLModel",
       "_view_count": null,
       "_view_module": "@jupyter-widgets/controls",
       "_view_module_version": "1.5.0",
       "_view_name": "HTMLView",
       "description": "",
       "description_tooltip": null,
       "layout": "IPY_MODEL_19f9eb84585d4321b3b87c7c74306afe",
       "placeholder": "​",
       "style": "IPY_MODEL_e67d5505ad174ff09b547d44c01109af",
       "value": "Downloading: 100%"
      }
     },
     "5efff6e38ad64caba65328fbd18b8ea8": {
      "model_module": "@jupyter-widgets/base",
      "model_module_version": "1.2.0",
      "model_name": "LayoutModel",
      "state": {
       "_model_module": "@jupyter-widgets/base",
       "_model_module_version": "1.2.0",
       "_model_name": "LayoutModel",
       "_view_count": null,
       "_view_module": "@jupyter-widgets/base",
       "_view_module_version": "1.2.0",
       "_view_name": "LayoutView",
       "align_content": null,
       "align_items": null,
       "align_self": null,
       "border": null,
       "bottom": null,
       "display": null,
       "flex": null,
       "flex_flow": null,
       "grid_area": null,
       "grid_auto_columns": null,
       "grid_auto_flow": null,
       "grid_auto_rows": null,
       "grid_column": null,
       "grid_gap": null,
       "grid_row": null,
       "grid_template_areas": null,
       "grid_template_columns": null,
       "grid_template_rows": null,
       "height": null,
       "justify_content": null,
       "justify_items": null,
       "left": null,
       "margin": null,
       "max_height": null,
       "max_width": null,
       "min_height": null,
       "min_width": null,
       "object_fit": null,
       "object_position": null,
       "order": null,
       "overflow": null,
       "overflow_x": null,
       "overflow_y": null,
       "padding": null,
       "right": null,
       "top": null,
       "visibility": null,
       "width": null
      }
     },
     "652d1f268de04736a097ce7d353adc92": {
      "model_module": "@jupyter-widgets/controls",
      "model_module_version": "1.5.0",
      "model_name": "HTMLModel",
      "state": {
       "_dom_classes": [],
       "_model_module": "@jupyter-widgets/controls",
       "_model_module_version": "1.5.0",
       "_model_name": "HTMLModel",
       "_view_count": null,
       "_view_module": "@jupyter-widgets/controls",
       "_view_module_version": "1.5.0",
       "_view_name": "HTMLView",
       "description": "",
       "description_tooltip": null,
       "layout": "IPY_MODEL_680af667c5714c66ac7a3aa8dbb7a51e",
       "placeholder": "​",
       "style": "IPY_MODEL_e463b965328e4fdca2d80b735d8aca00",
       "value": "Downloading: 100%"
      }
     },
     "680af667c5714c66ac7a3aa8dbb7a51e": {
      "model_module": "@jupyter-widgets/base",
      "model_module_version": "1.2.0",
      "model_name": "LayoutModel",
      "state": {
       "_model_module": "@jupyter-widgets/base",
       "_model_module_version": "1.2.0",
       "_model_name": "LayoutModel",
       "_view_count": null,
       "_view_module": "@jupyter-widgets/base",
       "_view_module_version": "1.2.0",
       "_view_name": "LayoutView",
       "align_content": null,
       "align_items": null,
       "align_self": null,
       "border": null,
       "bottom": null,
       "display": null,
       "flex": null,
       "flex_flow": null,
       "grid_area": null,
       "grid_auto_columns": null,
       "grid_auto_flow": null,
       "grid_auto_rows": null,
       "grid_column": null,
       "grid_gap": null,
       "grid_row": null,
       "grid_template_areas": null,
       "grid_template_columns": null,
       "grid_template_rows": null,
       "height": null,
       "justify_content": null,
       "justify_items": null,
       "left": null,
       "margin": null,
       "max_height": null,
       "max_width": null,
       "min_height": null,
       "min_width": null,
       "object_fit": null,
       "object_position": null,
       "order": null,
       "overflow": null,
       "overflow_x": null,
       "overflow_y": null,
       "padding": null,
       "right": null,
       "top": null,
       "visibility": null,
       "width": null
      }
     },
     "71eba15ec37f463e821d8d5f991533a8": {
      "model_module": "@jupyter-widgets/controls",
      "model_module_version": "1.5.0",
      "model_name": "HTMLModel",
      "state": {
       "_dom_classes": [],
       "_model_module": "@jupyter-widgets/controls",
       "_model_module_version": "1.5.0",
       "_model_name": "HTMLModel",
       "_view_count": null,
       "_view_module": "@jupyter-widgets/controls",
       "_view_module_version": "1.5.0",
       "_view_name": "HTMLView",
       "description": "",
       "description_tooltip": null,
       "layout": "IPY_MODEL_fe3e7f0db1574feda24fbdee38c5c65f",
       "placeholder": "​",
       "style": "IPY_MODEL_1e0fee64bb504bb1806921cd43324f9f",
       "value": " 570/570 [00:00&lt;00:00, 15.4kB/s]"
      }
     },
     "757017b7e60644219631846a73967ec3": {
      "model_module": "@jupyter-widgets/base",
      "model_module_version": "1.2.0",
      "model_name": "LayoutModel",
      "state": {
       "_model_module": "@jupyter-widgets/base",
       "_model_module_version": "1.2.0",
       "_model_name": "LayoutModel",
       "_view_count": null,
       "_view_module": "@jupyter-widgets/base",
       "_view_module_version": "1.2.0",
       "_view_name": "LayoutView",
       "align_content": null,
       "align_items": null,
       "align_self": null,
       "border": null,
       "bottom": null,
       "display": null,
       "flex": null,
       "flex_flow": null,
       "grid_area": null,
       "grid_auto_columns": null,
       "grid_auto_flow": null,
       "grid_auto_rows": null,
       "grid_column": null,
       "grid_gap": null,
       "grid_row": null,
       "grid_template_areas": null,
       "grid_template_columns": null,
       "grid_template_rows": null,
       "height": null,
       "justify_content": null,
       "justify_items": null,
       "left": null,
       "margin": null,
       "max_height": null,
       "max_width": null,
       "min_height": null,
       "min_width": null,
       "object_fit": null,
       "object_position": null,
       "order": null,
       "overflow": null,
       "overflow_x": null,
       "overflow_y": null,
       "padding": null,
       "right": null,
       "top": null,
       "visibility": null,
       "width": null
      }
     },
     "79c778c8eb084f249357463c66cf4016": {
      "model_module": "@jupyter-widgets/base",
      "model_module_version": "1.2.0",
      "model_name": "LayoutModel",
      "state": {
       "_model_module": "@jupyter-widgets/base",
       "_model_module_version": "1.2.0",
       "_model_name": "LayoutModel",
       "_view_count": null,
       "_view_module": "@jupyter-widgets/base",
       "_view_module_version": "1.2.0",
       "_view_name": "LayoutView",
       "align_content": null,
       "align_items": null,
       "align_self": null,
       "border": null,
       "bottom": null,
       "display": null,
       "flex": null,
       "flex_flow": null,
       "grid_area": null,
       "grid_auto_columns": null,
       "grid_auto_flow": null,
       "grid_auto_rows": null,
       "grid_column": null,
       "grid_gap": null,
       "grid_row": null,
       "grid_template_areas": null,
       "grid_template_columns": null,
       "grid_template_rows": null,
       "height": null,
       "justify_content": null,
       "justify_items": null,
       "left": null,
       "margin": null,
       "max_height": null,
       "max_width": null,
       "min_height": null,
       "min_width": null,
       "object_fit": null,
       "object_position": null,
       "order": null,
       "overflow": null,
       "overflow_x": null,
       "overflow_y": null,
       "padding": null,
       "right": null,
       "top": null,
       "visibility": null,
       "width": null
      }
     },
     "7abe6f03dd374d21abf7e9ce4872f9d8": {
      "model_module": "@jupyter-widgets/base",
      "model_module_version": "1.2.0",
      "model_name": "LayoutModel",
      "state": {
       "_model_module": "@jupyter-widgets/base",
       "_model_module_version": "1.2.0",
       "_model_name": "LayoutModel",
       "_view_count": null,
       "_view_module": "@jupyter-widgets/base",
       "_view_module_version": "1.2.0",
       "_view_name": "LayoutView",
       "align_content": null,
       "align_items": null,
       "align_self": null,
       "border": null,
       "bottom": null,
       "display": null,
       "flex": null,
       "flex_flow": null,
       "grid_area": null,
       "grid_auto_columns": null,
       "grid_auto_flow": null,
       "grid_auto_rows": null,
       "grid_column": null,
       "grid_gap": null,
       "grid_row": null,
       "grid_template_areas": null,
       "grid_template_columns": null,
       "grid_template_rows": null,
       "height": null,
       "justify_content": null,
       "justify_items": null,
       "left": null,
       "margin": null,
       "max_height": null,
       "max_width": null,
       "min_height": null,
       "min_width": null,
       "object_fit": null,
       "object_position": null,
       "order": null,
       "overflow": null,
       "overflow_x": null,
       "overflow_y": null,
       "padding": null,
       "right": null,
       "top": null,
       "visibility": null,
       "width": null
      }
     },
     "7def8ad86c0545e483e7da76d75f8dc3": {
      "model_module": "@jupyter-widgets/controls",
      "model_module_version": "1.5.0",
      "model_name": "HTMLModel",
      "state": {
       "_dom_classes": [],
       "_model_module": "@jupyter-widgets/controls",
       "_model_module_version": "1.5.0",
       "_model_name": "HTMLModel",
       "_view_count": null,
       "_view_module": "@jupyter-widgets/controls",
       "_view_module_version": "1.5.0",
       "_view_name": "HTMLView",
       "description": "",
       "description_tooltip": null,
       "layout": "IPY_MODEL_757017b7e60644219631846a73967ec3",
       "placeholder": "​",
       "style": "IPY_MODEL_1f747bf9a36c42b28e128a261ea037b6",
       "value": " 440M/440M [00:16&lt;00:00, 29.0MB/s]"
      }
     },
     "922367434ca44fab83b67f2e7fbfdf57": {
      "model_module": "@jupyter-widgets/controls",
      "model_module_version": "1.5.0",
      "model_name": "ProgressStyleModel",
      "state": {
       "_model_module": "@jupyter-widgets/controls",
       "_model_module_version": "1.5.0",
       "_model_name": "ProgressStyleModel",
       "_view_count": null,
       "_view_module": "@jupyter-widgets/base",
       "_view_module_version": "1.2.0",
       "_view_name": "StyleView",
       "bar_color": null,
       "description_width": ""
      }
     },
     "947725b1c1cd49729276555d7ac3ee5d": {
      "model_module": "@jupyter-widgets/base",
      "model_module_version": "1.2.0",
      "model_name": "LayoutModel",
      "state": {
       "_model_module": "@jupyter-widgets/base",
       "_model_module_version": "1.2.0",
       "_model_name": "LayoutModel",
       "_view_count": null,
       "_view_module": "@jupyter-widgets/base",
       "_view_module_version": "1.2.0",
       "_view_name": "LayoutView",
       "align_content": null,
       "align_items": null,
       "align_self": null,
       "border": null,
       "bottom": null,
       "display": null,
       "flex": null,
       "flex_flow": null,
       "grid_area": null,
       "grid_auto_columns": null,
       "grid_auto_flow": null,
       "grid_auto_rows": null,
       "grid_column": null,
       "grid_gap": null,
       "grid_row": null,
       "grid_template_areas": null,
       "grid_template_columns": null,
       "grid_template_rows": null,
       "height": null,
       "justify_content": null,
       "justify_items": null,
       "left": null,
       "margin": null,
       "max_height": null,
       "max_width": null,
       "min_height": null,
       "min_width": null,
       "object_fit": null,
       "object_position": null,
       "order": null,
       "overflow": null,
       "overflow_x": null,
       "overflow_y": null,
       "padding": null,
       "right": null,
       "top": null,
       "visibility": null,
       "width": null
      }
     },
     "97bc30d9db1b4882b929b95cf2f9dd2f": {
      "model_module": "@jupyter-widgets/controls",
      "model_module_version": "1.5.0",
      "model_name": "HBoxModel",
      "state": {
       "_dom_classes": [],
       "_model_module": "@jupyter-widgets/controls",
       "_model_module_version": "1.5.0",
       "_model_name": "HBoxModel",
       "_view_count": null,
       "_view_module": "@jupyter-widgets/controls",
       "_view_module_version": "1.5.0",
       "_view_name": "HBoxView",
       "box_style": "",
       "children": [
        "IPY_MODEL_5a3edafa35ef4d3a85413eda9614baa4",
        "IPY_MODEL_a1624d7d462b4c74a93be7145341b1b1",
        "IPY_MODEL_d18c720d505a43f8bc23390f814a5918"
       ],
       "layout": "IPY_MODEL_35a18c1bd6864a9087df443361b95f1b"
      }
     },
     "983cc0081b4b40f780e040f96b6c8611": {
      "model_module": "@jupyter-widgets/controls",
      "model_module_version": "1.5.0",
      "model_name": "DescriptionStyleModel",
      "state": {
       "_model_module": "@jupyter-widgets/controls",
       "_model_module_version": "1.5.0",
       "_model_name": "DescriptionStyleModel",
       "_view_count": null,
       "_view_module": "@jupyter-widgets/base",
       "_view_module_version": "1.2.0",
       "_view_name": "StyleView",
       "description_width": ""
      }
     },
     "a1624d7d462b4c74a93be7145341b1b1": {
      "model_module": "@jupyter-widgets/controls",
      "model_module_version": "1.5.0",
      "model_name": "FloatProgressModel",
      "state": {
       "_dom_classes": [],
       "_model_module": "@jupyter-widgets/controls",
       "_model_module_version": "1.5.0",
       "_model_name": "FloatProgressModel",
       "_view_count": null,
       "_view_module": "@jupyter-widgets/controls",
       "_view_module_version": "1.5.0",
       "_view_name": "ProgressView",
       "bar_style": "success",
       "description": "",
       "description_tooltip": null,
       "layout": "IPY_MODEL_d21068eb0ac24a2f807ec16f9ecbed71",
       "max": 466062.0,
       "min": 0.0,
       "orientation": "horizontal",
       "style": "IPY_MODEL_922367434ca44fab83b67f2e7fbfdf57",
       "value": 466062.0
      }
     },
     "a1a2e375a29643e7a0049c50a341f426": {
      "model_module": "@jupyter-widgets/controls",
      "model_module_version": "1.5.0",
      "model_name": "ProgressStyleModel",
      "state": {
       "_model_module": "@jupyter-widgets/controls",
       "_model_module_version": "1.5.0",
       "_model_name": "ProgressStyleModel",
       "_view_count": null,
       "_view_module": "@jupyter-widgets/base",
       "_view_module_version": "1.2.0",
       "_view_name": "StyleView",
       "bar_color": null,
       "description_width": ""
      }
     },
     "a4f6f58e20284d26ae9aa710a097a0c3": {
      "model_module": "@jupyter-widgets/controls",
      "model_module_version": "1.5.0",
      "model_name": "ProgressStyleModel",
      "state": {
       "_model_module": "@jupyter-widgets/controls",
       "_model_module_version": "1.5.0",
       "_model_name": "ProgressStyleModel",
       "_view_count": null,
       "_view_module": "@jupyter-widgets/base",
       "_view_module_version": "1.2.0",
       "_view_name": "StyleView",
       "bar_color": null,
       "description_width": ""
      }
     },
     "a70e187b62f948f7a0045184176a64fa": {
      "model_module": "@jupyter-widgets/controls",
      "model_module_version": "1.5.0",
      "model_name": "HTMLModel",
      "state": {
       "_dom_classes": [],
       "_model_module": "@jupyter-widgets/controls",
       "_model_module_version": "1.5.0",
       "_model_name": "HTMLModel",
       "_view_count": null,
       "_view_module": "@jupyter-widgets/controls",
       "_view_module_version": "1.5.0",
       "_view_name": "HTMLView",
       "description": "",
       "description_tooltip": null,
       "layout": "IPY_MODEL_5efff6e38ad64caba65328fbd18b8ea8",
       "placeholder": "​",
       "style": "IPY_MODEL_b3676b7c3ed5402684434434a2d02bdc",
       "value": "Downloading: 100%"
      }
     },
     "a996fc360b7a45438ffc149337036820": {
      "model_module": "@jupyter-widgets/controls",
      "model_module_version": "1.5.0",
      "model_name": "FloatProgressModel",
      "state": {
       "_dom_classes": [],
       "_model_module": "@jupyter-widgets/controls",
       "_model_module_version": "1.5.0",
       "_model_name": "FloatProgressModel",
       "_view_count": null,
       "_view_module": "@jupyter-widgets/controls",
       "_view_module_version": "1.5.0",
       "_view_name": "ProgressView",
       "bar_style": "success",
       "description": "",
       "description_tooltip": null,
       "layout": "IPY_MODEL_79c778c8eb084f249357463c66cf4016",
       "max": 231508.0,
       "min": 0.0,
       "orientation": "horizontal",
       "style": "IPY_MODEL_46cf83b2f89a432e9935fd6f95a4b9eb",
       "value": 231508.0
      }
     },
     "b3676b7c3ed5402684434434a2d02bdc": {
      "model_module": "@jupyter-widgets/controls",
      "model_module_version": "1.5.0",
      "model_name": "DescriptionStyleModel",
      "state": {
       "_model_module": "@jupyter-widgets/controls",
       "_model_module_version": "1.5.0",
       "_model_name": "DescriptionStyleModel",
       "_view_count": null,
       "_view_module": "@jupyter-widgets/base",
       "_view_module_version": "1.2.0",
       "_view_name": "StyleView",
       "description_width": ""
      }
     },
     "b9d2529d25cd4c95b90308b2123a4e70": {
      "model_module": "@jupyter-widgets/base",
      "model_module_version": "1.2.0",
      "model_name": "LayoutModel",
      "state": {
       "_model_module": "@jupyter-widgets/base",
       "_model_module_version": "1.2.0",
       "_model_name": "LayoutModel",
       "_view_count": null,
       "_view_module": "@jupyter-widgets/base",
       "_view_module_version": "1.2.0",
       "_view_name": "LayoutView",
       "align_content": null,
       "align_items": null,
       "align_self": null,
       "border": null,
       "bottom": null,
       "display": null,
       "flex": null,
       "flex_flow": null,
       "grid_area": null,
       "grid_auto_columns": null,
       "grid_auto_flow": null,
       "grid_auto_rows": null,
       "grid_column": null,
       "grid_gap": null,
       "grid_row": null,
       "grid_template_areas": null,
       "grid_template_columns": null,
       "grid_template_rows": null,
       "height": null,
       "justify_content": null,
       "justify_items": null,
       "left": null,
       "margin": null,
       "max_height": null,
       "max_width": null,
       "min_height": null,
       "min_width": null,
       "object_fit": null,
       "object_position": null,
       "order": null,
       "overflow": null,
       "overflow_x": null,
       "overflow_y": null,
       "padding": null,
       "right": null,
       "top": null,
       "visibility": null,
       "width": null
      }
     },
     "c58041b8a4aa4f729b85980f7b73a01a": {
      "model_module": "@jupyter-widgets/controls",
      "model_module_version": "1.5.0",
      "model_name": "FloatProgressModel",
      "state": {
       "_dom_classes": [],
       "_model_module": "@jupyter-widgets/controls",
       "_model_module_version": "1.5.0",
       "_model_name": "FloatProgressModel",
       "_view_count": null,
       "_view_module": "@jupyter-widgets/controls",
       "_view_module_version": "1.5.0",
       "_view_name": "ProgressView",
       "bar_style": "success",
       "description": "",
       "description_tooltip": null,
       "layout": "IPY_MODEL_033b578462164c2dab93d4239476ab8c",
       "max": 28.0,
       "min": 0.0,
       "orientation": "horizontal",
       "style": "IPY_MODEL_a1a2e375a29643e7a0049c50a341f426",
       "value": 28.0
      }
     },
     "c6a26cdc43bc4e91ae66c203f7d3371c": {
      "model_module": "@jupyter-widgets/controls",
      "model_module_version": "1.5.0",
      "model_name": "HBoxModel",
      "state": {
       "_dom_classes": [],
       "_model_module": "@jupyter-widgets/controls",
       "_model_module_version": "1.5.0",
       "_model_name": "HBoxModel",
       "_view_count": null,
       "_view_module": "@jupyter-widgets/controls",
       "_view_module_version": "1.5.0",
       "_view_name": "HBoxView",
       "box_style": "",
       "children": [
        "IPY_MODEL_cd4287bd985345a0b8413ec04f455c5d",
        "IPY_MODEL_da4010463db44347915fda3e9a5667a8",
        "IPY_MODEL_71eba15ec37f463e821d8d5f991533a8"
       ],
       "layout": "IPY_MODEL_b9d2529d25cd4c95b90308b2123a4e70"
      }
     },
     "cd4287bd985345a0b8413ec04f455c5d": {
      "model_module": "@jupyter-widgets/controls",
      "model_module_version": "1.5.0",
      "model_name": "HTMLModel",
      "state": {
       "_dom_classes": [],
       "_model_module": "@jupyter-widgets/controls",
       "_model_module_version": "1.5.0",
       "_model_name": "HTMLModel",
       "_view_count": null,
       "_view_module": "@jupyter-widgets/controls",
       "_view_module_version": "1.5.0",
       "_view_name": "HTMLView",
       "description": "",
       "description_tooltip": null,
       "layout": "IPY_MODEL_f5771bcc69e34d58923023c0582a1c04",
       "placeholder": "​",
       "style": "IPY_MODEL_49790506b02841a4a039661e1115f191",
       "value": "Downloading: 100%"
      }
     },
     "cd9350a653e04acc9115c1ba56d7909f": {
      "model_module": "@jupyter-widgets/base",
      "model_module_version": "1.2.0",
      "model_name": "LayoutModel",
      "state": {
       "_model_module": "@jupyter-widgets/base",
       "_model_module_version": "1.2.0",
       "_model_name": "LayoutModel",
       "_view_count": null,
       "_view_module": "@jupyter-widgets/base",
       "_view_module_version": "1.2.0",
       "_view_name": "LayoutView",
       "align_content": null,
       "align_items": null,
       "align_self": null,
       "border": null,
       "bottom": null,
       "display": null,
       "flex": null,
       "flex_flow": null,
       "grid_area": null,
       "grid_auto_columns": null,
       "grid_auto_flow": null,
       "grid_auto_rows": null,
       "grid_column": null,
       "grid_gap": null,
       "grid_row": null,
       "grid_template_areas": null,
       "grid_template_columns": null,
       "grid_template_rows": null,
       "height": null,
       "justify_content": null,
       "justify_items": null,
       "left": null,
       "margin": null,
       "max_height": null,
       "max_width": null,
       "min_height": null,
       "min_width": null,
       "object_fit": null,
       "object_position": null,
       "order": null,
       "overflow": null,
       "overflow_x": null,
       "overflow_y": null,
       "padding": null,
       "right": null,
       "top": null,
       "visibility": null,
       "width": null
      }
     },
     "d18c720d505a43f8bc23390f814a5918": {
      "model_module": "@jupyter-widgets/controls",
      "model_module_version": "1.5.0",
      "model_name": "HTMLModel",
      "state": {
       "_dom_classes": [],
       "_model_module": "@jupyter-widgets/controls",
       "_model_module_version": "1.5.0",
       "_model_name": "HTMLModel",
       "_view_count": null,
       "_view_module": "@jupyter-widgets/controls",
       "_view_module_version": "1.5.0",
       "_view_name": "HTMLView",
       "description": "",
       "description_tooltip": null,
       "layout": "IPY_MODEL_dcd2707f77a44f70b8a0d3d1d4495e67",
       "placeholder": "​",
       "style": "IPY_MODEL_0e111cc45fd84ce0957dfb6391c45483",
       "value": " 466k/466k [00:00&lt;00:00, 673kB/s]"
      }
     },
     "d21068eb0ac24a2f807ec16f9ecbed71": {
      "model_module": "@jupyter-widgets/base",
      "model_module_version": "1.2.0",
      "model_name": "LayoutModel",
      "state": {
       "_model_module": "@jupyter-widgets/base",
       "_model_module_version": "1.2.0",
       "_model_name": "LayoutModel",
       "_view_count": null,
       "_view_module": "@jupyter-widgets/base",
       "_view_module_version": "1.2.0",
       "_view_name": "LayoutView",
       "align_content": null,
       "align_items": null,
       "align_self": null,
       "border": null,
       "bottom": null,
       "display": null,
       "flex": null,
       "flex_flow": null,
       "grid_area": null,
       "grid_auto_columns": null,
       "grid_auto_flow": null,
       "grid_auto_rows": null,
       "grid_column": null,
       "grid_gap": null,
       "grid_row": null,
       "grid_template_areas": null,
       "grid_template_columns": null,
       "grid_template_rows": null,
       "height": null,
       "justify_content": null,
       "justify_items": null,
       "left": null,
       "margin": null,
       "max_height": null,
       "max_width": null,
       "min_height": null,
       "min_width": null,
       "object_fit": null,
       "object_position": null,
       "order": null,
       "overflow": null,
       "overflow_x": null,
       "overflow_y": null,
       "padding": null,
       "right": null,
       "top": null,
       "visibility": null,
       "width": null
      }
     },
     "da4010463db44347915fda3e9a5667a8": {
      "model_module": "@jupyter-widgets/controls",
      "model_module_version": "1.5.0",
      "model_name": "FloatProgressModel",
      "state": {
       "_dom_classes": [],
       "_model_module": "@jupyter-widgets/controls",
       "_model_module_version": "1.5.0",
       "_model_name": "FloatProgressModel",
       "_view_count": null,
       "_view_module": "@jupyter-widgets/controls",
       "_view_module_version": "1.5.0",
       "_view_name": "ProgressView",
       "bar_style": "success",
       "description": "",
       "description_tooltip": null,
       "layout": "IPY_MODEL_e03e83e971e8437694e00696c06a8a9a",
       "max": 570.0,
       "min": 0.0,
       "orientation": "horizontal",
       "style": "IPY_MODEL_2d6d6d57950546d1a5207a15bf11c938",
       "value": 570.0
      }
     },
     "dc544d35c86f46af9332e9e57592ff25": {
      "model_module": "@jupyter-widgets/base",
      "model_module_version": "1.2.0",
      "model_name": "LayoutModel",
      "state": {
       "_model_module": "@jupyter-widgets/base",
       "_model_module_version": "1.2.0",
       "_model_name": "LayoutModel",
       "_view_count": null,
       "_view_module": "@jupyter-widgets/base",
       "_view_module_version": "1.2.0",
       "_view_name": "LayoutView",
       "align_content": null,
       "align_items": null,
       "align_self": null,
       "border": null,
       "bottom": null,
       "display": null,
       "flex": null,
       "flex_flow": null,
       "grid_area": null,
       "grid_auto_columns": null,
       "grid_auto_flow": null,
       "grid_auto_rows": null,
       "grid_column": null,
       "grid_gap": null,
       "grid_row": null,
       "grid_template_areas": null,
       "grid_template_columns": null,
       "grid_template_rows": null,
       "height": null,
       "justify_content": null,
       "justify_items": null,
       "left": null,
       "margin": null,
       "max_height": null,
       "max_width": null,
       "min_height": null,
       "min_width": null,
       "object_fit": null,
       "object_position": null,
       "order": null,
       "overflow": null,
       "overflow_x": null,
       "overflow_y": null,
       "padding": null,
       "right": null,
       "top": null,
       "visibility": null,
       "width": null
      }
     },
     "dcd2707f77a44f70b8a0d3d1d4495e67": {
      "model_module": "@jupyter-widgets/base",
      "model_module_version": "1.2.0",
      "model_name": "LayoutModel",
      "state": {
       "_model_module": "@jupyter-widgets/base",
       "_model_module_version": "1.2.0",
       "_model_name": "LayoutModel",
       "_view_count": null,
       "_view_module": "@jupyter-widgets/base",
       "_view_module_version": "1.2.0",
       "_view_name": "LayoutView",
       "align_content": null,
       "align_items": null,
       "align_self": null,
       "border": null,
       "bottom": null,
       "display": null,
       "flex": null,
       "flex_flow": null,
       "grid_area": null,
       "grid_auto_columns": null,
       "grid_auto_flow": null,
       "grid_auto_rows": null,
       "grid_column": null,
       "grid_gap": null,
       "grid_row": null,
       "grid_template_areas": null,
       "grid_template_columns": null,
       "grid_template_rows": null,
       "height": null,
       "justify_content": null,
       "justify_items": null,
       "left": null,
       "margin": null,
       "max_height": null,
       "max_width": null,
       "min_height": null,
       "min_width": null,
       "object_fit": null,
       "object_position": null,
       "order": null,
       "overflow": null,
       "overflow_x": null,
       "overflow_y": null,
       "padding": null,
       "right": null,
       "top": null,
       "visibility": null,
       "width": null
      }
     },
     "e03e83e971e8437694e00696c06a8a9a": {
      "model_module": "@jupyter-widgets/base",
      "model_module_version": "1.2.0",
      "model_name": "LayoutModel",
      "state": {
       "_model_module": "@jupyter-widgets/base",
       "_model_module_version": "1.2.0",
       "_model_name": "LayoutModel",
       "_view_count": null,
       "_view_module": "@jupyter-widgets/base",
       "_view_module_version": "1.2.0",
       "_view_name": "LayoutView",
       "align_content": null,
       "align_items": null,
       "align_self": null,
       "border": null,
       "bottom": null,
       "display": null,
       "flex": null,
       "flex_flow": null,
       "grid_area": null,
       "grid_auto_columns": null,
       "grid_auto_flow": null,
       "grid_auto_rows": null,
       "grid_column": null,
       "grid_gap": null,
       "grid_row": null,
       "grid_template_areas": null,
       "grid_template_columns": null,
       "grid_template_rows": null,
       "height": null,
       "justify_content": null,
       "justify_items": null,
       "left": null,
       "margin": null,
       "max_height": null,
       "max_width": null,
       "min_height": null,
       "min_width": null,
       "object_fit": null,
       "object_position": null,
       "order": null,
       "overflow": null,
       "overflow_x": null,
       "overflow_y": null,
       "padding": null,
       "right": null,
       "top": null,
       "visibility": null,
       "width": null
      }
     },
     "e463b965328e4fdca2d80b735d8aca00": {
      "model_module": "@jupyter-widgets/controls",
      "model_module_version": "1.5.0",
      "model_name": "DescriptionStyleModel",
      "state": {
       "_model_module": "@jupyter-widgets/controls",
       "_model_module_version": "1.5.0",
       "_model_name": "DescriptionStyleModel",
       "_view_count": null,
       "_view_module": "@jupyter-widgets/base",
       "_view_module_version": "1.2.0",
       "_view_name": "StyleView",
       "description_width": ""
      }
     },
     "e67d5505ad174ff09b547d44c01109af": {
      "model_module": "@jupyter-widgets/controls",
      "model_module_version": "1.5.0",
      "model_name": "DescriptionStyleModel",
      "state": {
       "_model_module": "@jupyter-widgets/controls",
       "_model_module_version": "1.5.0",
       "_model_name": "DescriptionStyleModel",
       "_view_count": null,
       "_view_module": "@jupyter-widgets/base",
       "_view_module_version": "1.2.0",
       "_view_name": "StyleView",
       "description_width": ""
      }
     },
     "ee159a968f0548e79970643eec73898a": {
      "model_module": "@jupyter-widgets/controls",
      "model_module_version": "1.5.0",
      "model_name": "FloatProgressModel",
      "state": {
       "_dom_classes": [],
       "_model_module": "@jupyter-widgets/controls",
       "_model_module_version": "1.5.0",
       "_model_name": "FloatProgressModel",
       "_view_count": null,
       "_view_module": "@jupyter-widgets/controls",
       "_view_module_version": "1.5.0",
       "_view_name": "ProgressView",
       "bar_style": "success",
       "description": "",
       "description_tooltip": null,
       "layout": "IPY_MODEL_947725b1c1cd49729276555d7ac3ee5d",
       "max": 440473133.0,
       "min": 0.0,
       "orientation": "horizontal",
       "style": "IPY_MODEL_a4f6f58e20284d26ae9aa710a097a0c3",
       "value": 440473133.0
      }
     },
     "f2bec3da543a4306a8289af90d493186": {
      "model_module": "@jupyter-widgets/controls",
      "model_module_version": "1.5.0",
      "model_name": "HTMLModel",
      "state": {
       "_dom_classes": [],
       "_model_module": "@jupyter-widgets/controls",
       "_model_module_version": "1.5.0",
       "_model_name": "HTMLModel",
       "_view_count": null,
       "_view_module": "@jupyter-widgets/controls",
       "_view_module_version": "1.5.0",
       "_view_name": "HTMLView",
       "description": "",
       "description_tooltip": null,
       "layout": "IPY_MODEL_11a0770aac9542d793b96ec2bf4ed99c",
       "placeholder": "​",
       "style": "IPY_MODEL_58790c5e934a4ca38b1b2fdfb1fefb7d",
       "value": " 232k/232k [00:00&lt;00:00, 672kB/s]"
      }
     },
     "f5771bcc69e34d58923023c0582a1c04": {
      "model_module": "@jupyter-widgets/base",
      "model_module_version": "1.2.0",
      "model_name": "LayoutModel",
      "state": {
       "_model_module": "@jupyter-widgets/base",
       "_model_module_version": "1.2.0",
       "_model_name": "LayoutModel",
       "_view_count": null,
       "_view_module": "@jupyter-widgets/base",
       "_view_module_version": "1.2.0",
       "_view_name": "LayoutView",
       "align_content": null,
       "align_items": null,
       "align_self": null,
       "border": null,
       "bottom": null,
       "display": null,
       "flex": null,
       "flex_flow": null,
       "grid_area": null,
       "grid_auto_columns": null,
       "grid_auto_flow": null,
       "grid_auto_rows": null,
       "grid_column": null,
       "grid_gap": null,
       "grid_row": null,
       "grid_template_areas": null,
       "grid_template_columns": null,
       "grid_template_rows": null,
       "height": null,
       "justify_content": null,
       "justify_items": null,
       "left": null,
       "margin": null,
       "max_height": null,
       "max_width": null,
       "min_height": null,
       "min_width": null,
       "object_fit": null,
       "object_position": null,
       "order": null,
       "overflow": null,
       "overflow_x": null,
       "overflow_y": null,
       "padding": null,
       "right": null,
       "top": null,
       "visibility": null,
       "width": null
      }
     },
     "f6402756b6c84550b5d7b80c181f0660": {
      "model_module": "@jupyter-widgets/controls",
      "model_module_version": "1.5.0",
      "model_name": "DescriptionStyleModel",
      "state": {
       "_model_module": "@jupyter-widgets/controls",
       "_model_module_version": "1.5.0",
       "_model_name": "DescriptionStyleModel",
       "_view_count": null,
       "_view_module": "@jupyter-widgets/base",
       "_view_module_version": "1.2.0",
       "_view_name": "StyleView",
       "description_width": ""
      }
     },
     "fdc0bcdc63c447a1b630dc79c977e890": {
      "model_module": "@jupyter-widgets/controls",
      "model_module_version": "1.5.0",
      "model_name": "HBoxModel",
      "state": {
       "_dom_classes": [],
       "_model_module": "@jupyter-widgets/controls",
       "_model_module_version": "1.5.0",
       "_model_name": "HBoxModel",
       "_view_count": null,
       "_view_module": "@jupyter-widgets/controls",
       "_view_module_version": "1.5.0",
       "_view_name": "HBoxView",
       "box_style": "",
       "children": [
        "IPY_MODEL_a70e187b62f948f7a0045184176a64fa",
        "IPY_MODEL_a996fc360b7a45438ffc149337036820",
        "IPY_MODEL_f2bec3da543a4306a8289af90d493186"
       ],
       "layout": "IPY_MODEL_cd9350a653e04acc9115c1ba56d7909f"
      }
     },
     "fe3e7f0db1574feda24fbdee38c5c65f": {
      "model_module": "@jupyter-widgets/base",
      "model_module_version": "1.2.0",
      "model_name": "LayoutModel",
      "state": {
       "_model_module": "@jupyter-widgets/base",
       "_model_module_version": "1.2.0",
       "_model_name": "LayoutModel",
       "_view_count": null,
       "_view_module": "@jupyter-widgets/base",
       "_view_module_version": "1.2.0",
       "_view_name": "LayoutView",
       "align_content": null,
       "align_items": null,
       "align_self": null,
       "border": null,
       "bottom": null,
       "display": null,
       "flex": null,
       "flex_flow": null,
       "grid_area": null,
       "grid_auto_columns": null,
       "grid_auto_flow": null,
       "grid_auto_rows": null,
       "grid_column": null,
       "grid_gap": null,
       "grid_row": null,
       "grid_template_areas": null,
       "grid_template_columns": null,
       "grid_template_rows": null,
       "height": null,
       "justify_content": null,
       "justify_items": null,
       "left": null,
       "margin": null,
       "max_height": null,
       "max_width": null,
       "min_height": null,
       "min_width": null,
       "object_fit": null,
       "object_position": null,
       "order": null,
       "overflow": null,
       "overflow_x": null,
       "overflow_y": null,
       "padding": null,
       "right": null,
       "top": null,
       "visibility": null,
       "width": null
      }
     }
    },
    "version_major": 2,
    "version_minor": 0
   }
  }
 },
 "nbformat": 4,
 "nbformat_minor": 5
}
